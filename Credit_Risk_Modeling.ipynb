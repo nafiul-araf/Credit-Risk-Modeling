{
  "nbformat": 4,
  "nbformat_minor": 0,
  "metadata": {
    "colab": {
      "name": "Credit Risk Modeling.ipynb",
      "provenance": [],
      "collapsed_sections": [
        "aaVRP36tETxp",
        "HMpQNapOvcKb",
        "-T8TT6DOHnKk",
        "FmD42oYAXvsk",
        "F1RdgMtnrOQI",
        "xwnTXNNMw4NM"
      ],
      "authorship_tag": "ABX9TyP/B+qb9CjtYf3vHURhXzSY",
      "include_colab_link": true
    },
    "kernelspec": {
      "name": "python3",
      "display_name": "Python 3"
    }
  },
  "cells": [
    {
      "cell_type": "markdown",
      "metadata": {
        "id": "view-in-github",
        "colab_type": "text"
      },
      "source": [
        "<a href=\"https://colab.research.google.com/github/nafiul-araf/Credit-Risk-Modeling/blob/main/Credit_Risk_Modeling.ipynb\" target=\"_parent\"><img src=\"https://colab.research.google.com/assets/colab-badge.svg\" alt=\"Open In Colab\"/></a>"
      ]
    },
    {
      "cell_type": "markdown",
      "metadata": {
        "id": "aaVRP36tETxp"
      },
      "source": [
        "# ***Project Description***"
      ]
    },
    {
      "cell_type": "markdown",
      "metadata": {
        "id": "lTyBU5l_tq5j"
      },
      "source": [
        "**Credit Risk** is the possibility of a loss resulting from a borrower's failure to repay a loan or meet contractual obligations. When someone fails to repay a loan, it is said to be in **default** otherwise **non-default**. Monitoring credit risk allows to understand which potential clients may come at too high risk and pre-defined risk tolerance.\r\n",
        "\r\n",
        "\r\n",
        "**In this project**, I prepare credit risk application data. Then, I apply *machine learning models* and *business rules*, to predict probalibility of default on a loan and reduce risk with a view to ensuring the decrease of loss. After developing the best models, I develop a *business strategy* to make final decision.\r\n",
        "\r\n",
        "\r\n",
        "This is a **classification problem** where I predict the probability of default which means the likelihood that someone will default on a loan. There are two classes in the output so it is a **binary classification** problem. Two classes are-\r\n",
        "\r\n",
        "\r\n",
        "*   **0 ->** Non-Default\r\n",
        "*   **1 ->** Default \r\n",
        "\r\n",
        "\r\n",
        "\r\n",
        "Here **two** machine learning models I have used-\r\n",
        "\r\n",
        "\r\n",
        "*   **Logistic Regression-**  The logistic regression is a predictive analysis. Logistic regression is used to describe data and to explain the relationship between one dependent binary variable and one or more nominal, ordinal, interval or ratio-level independent variables. For more information [click here](https://www.statisticssolutions.com/what-is-logistic-regression/)\r\n",
        "*   **eXtreme Gradient Boosting(XGBoost)-** It is an implementation of gradient boosting machines.  XGBoost is an implementation of gradient boosted decision trees designed for speed and performance. For more information [click here](https://www.analyticsvidhya.com/blog/2018/09/an-end-to-end-guide-to-understand-the-math-behind-xgboost/)\r\n",
        "\r\n",
        "\r\n",
        "The *model* and *framework* for this project-\r\n",
        "\r\n",
        "\r\n",
        "*   **Discrete-time hazard model-** A discrete time hazard model for a population of loans assess the evaluation of PD considering, conjointly, the effects of explanatory variables, or risk factors and the time when a default occurs.\r\n",
        "*   **Structural model framework-** Empirical studies of structural credit risk models so far are often based on parameters and test model-implied restrictions in a unified framework. The model explains the default even based on other factors.\r\n",
        "\r\n",
        "\r\n"
      ]
    },
    {
      "cell_type": "markdown",
      "metadata": {
        "id": "SsubuHc5ueMc"
      },
      "source": [
        "# ***Loading The Data***"
      ]
    },
    {
      "cell_type": "code",
      "metadata": {
        "colab": {
          "base_uri": "https://localhost:8080/"
        },
        "id": "W9csXhSFc9pK",
        "outputId": "e0303573-d7e6-4b84-c7da-89078584b0a4"
      },
      "source": [
        "import pandas as pd\r\n",
        "\r\n",
        "from google.colab import drive\r\n",
        "drive.mount('/content/gdrive')"
      ],
      "execution_count": 170,
      "outputs": [
        {
          "output_type": "stream",
          "text": [
            "Drive already mounted at /content/gdrive; to attempt to forcibly remount, call drive.mount(\"/content/gdrive\", force_remount=True).\n"
          ],
          "name": "stdout"
        }
      ]
    },
    {
      "cell_type": "code",
      "metadata": {
        "id": "YwWS2AJ8dBnB"
      },
      "source": [
        "cr_loan=pd.read_csv(\"/content/gdrive/MyDrive/cr_loan2.csv\")"
      ],
      "execution_count": 171,
      "outputs": []
    },
    {
      "cell_type": "code",
      "metadata": {
        "colab": {
          "base_uri": "https://localhost:8080/",
          "height": 224
        },
        "id": "3Ui5mgQQdSuz",
        "outputId": "c2c109cf-03aa-4fb8-d585-ba258c6d8381"
      },
      "source": [
        "cr_loan.head()"
      ],
      "execution_count": 172,
      "outputs": [
        {
          "output_type": "execute_result",
          "data": {
            "text/html": [
              "<div>\n",
              "<style scoped>\n",
              "    .dataframe tbody tr th:only-of-type {\n",
              "        vertical-align: middle;\n",
              "    }\n",
              "\n",
              "    .dataframe tbody tr th {\n",
              "        vertical-align: top;\n",
              "    }\n",
              "\n",
              "    .dataframe thead th {\n",
              "        text-align: right;\n",
              "    }\n",
              "</style>\n",
              "<table border=\"1\" class=\"dataframe\">\n",
              "  <thead>\n",
              "    <tr style=\"text-align: right;\">\n",
              "      <th></th>\n",
              "      <th>person_age</th>\n",
              "      <th>person_income</th>\n",
              "      <th>person_home_ownership</th>\n",
              "      <th>person_emp_length</th>\n",
              "      <th>loan_intent</th>\n",
              "      <th>loan_grade</th>\n",
              "      <th>loan_amnt</th>\n",
              "      <th>loan_int_rate</th>\n",
              "      <th>loan_status</th>\n",
              "      <th>loan_percent_income</th>\n",
              "      <th>cb_person_default_on_file</th>\n",
              "      <th>cb_person_cred_hist_length</th>\n",
              "    </tr>\n",
              "  </thead>\n",
              "  <tbody>\n",
              "    <tr>\n",
              "      <th>0</th>\n",
              "      <td>22</td>\n",
              "      <td>59000</td>\n",
              "      <td>RENT</td>\n",
              "      <td>123.0</td>\n",
              "      <td>PERSONAL</td>\n",
              "      <td>D</td>\n",
              "      <td>35000</td>\n",
              "      <td>16.02</td>\n",
              "      <td>1</td>\n",
              "      <td>0.59</td>\n",
              "      <td>Y</td>\n",
              "      <td>3</td>\n",
              "    </tr>\n",
              "    <tr>\n",
              "      <th>1</th>\n",
              "      <td>21</td>\n",
              "      <td>9600</td>\n",
              "      <td>OWN</td>\n",
              "      <td>5.0</td>\n",
              "      <td>EDUCATION</td>\n",
              "      <td>B</td>\n",
              "      <td>1000</td>\n",
              "      <td>11.14</td>\n",
              "      <td>0</td>\n",
              "      <td>0.10</td>\n",
              "      <td>N</td>\n",
              "      <td>2</td>\n",
              "    </tr>\n",
              "    <tr>\n",
              "      <th>2</th>\n",
              "      <td>25</td>\n",
              "      <td>9600</td>\n",
              "      <td>MORTGAGE</td>\n",
              "      <td>1.0</td>\n",
              "      <td>MEDICAL</td>\n",
              "      <td>C</td>\n",
              "      <td>5500</td>\n",
              "      <td>12.87</td>\n",
              "      <td>1</td>\n",
              "      <td>0.57</td>\n",
              "      <td>N</td>\n",
              "      <td>3</td>\n",
              "    </tr>\n",
              "    <tr>\n",
              "      <th>3</th>\n",
              "      <td>23</td>\n",
              "      <td>65500</td>\n",
              "      <td>RENT</td>\n",
              "      <td>4.0</td>\n",
              "      <td>MEDICAL</td>\n",
              "      <td>C</td>\n",
              "      <td>35000</td>\n",
              "      <td>15.23</td>\n",
              "      <td>1</td>\n",
              "      <td>0.53</td>\n",
              "      <td>N</td>\n",
              "      <td>2</td>\n",
              "    </tr>\n",
              "    <tr>\n",
              "      <th>4</th>\n",
              "      <td>24</td>\n",
              "      <td>54400</td>\n",
              "      <td>RENT</td>\n",
              "      <td>8.0</td>\n",
              "      <td>MEDICAL</td>\n",
              "      <td>C</td>\n",
              "      <td>35000</td>\n",
              "      <td>14.27</td>\n",
              "      <td>1</td>\n",
              "      <td>0.55</td>\n",
              "      <td>Y</td>\n",
              "      <td>4</td>\n",
              "    </tr>\n",
              "  </tbody>\n",
              "</table>\n",
              "</div>"
            ],
            "text/plain": [
              "   person_age  ...  cb_person_cred_hist_length\n",
              "0          22  ...                           3\n",
              "1          21  ...                           2\n",
              "2          25  ...                           3\n",
              "3          23  ...                           2\n",
              "4          24  ...                           4\n",
              "\n",
              "[5 rows x 12 columns]"
            ]
          },
          "metadata": {
            "tags": []
          },
          "execution_count": 172
        }
      ]
    },
    {
      "cell_type": "code",
      "metadata": {
        "colab": {
          "base_uri": "https://localhost:8080/"
        },
        "id": "K07GO9spdUrN",
        "outputId": "83d27c21-e324-453f-88b8-84dd91dff401"
      },
      "source": [
        "cr_loan.shape"
      ],
      "execution_count": 173,
      "outputs": [
        {
          "output_type": "execute_result",
          "data": {
            "text/plain": [
              "(32581, 12)"
            ]
          },
          "metadata": {
            "tags": []
          },
          "execution_count": 173
        }
      ]
    },
    {
      "cell_type": "code",
      "metadata": {
        "colab": {
          "base_uri": "https://localhost:8080/"
        },
        "id": "dGobqjXrikIz",
        "outputId": "7534403d-afb0-4584-fcbf-ae7a25576f8b"
      },
      "source": [
        "cr_loan.dtypes"
      ],
      "execution_count": 174,
      "outputs": [
        {
          "output_type": "execute_result",
          "data": {
            "text/plain": [
              "person_age                      int64\n",
              "person_income                   int64\n",
              "person_home_ownership          object\n",
              "person_emp_length             float64\n",
              "loan_intent                    object\n",
              "loan_grade                     object\n",
              "loan_amnt                       int64\n",
              "loan_int_rate                 float64\n",
              "loan_status                     int64\n",
              "loan_percent_income           float64\n",
              "cb_person_default_on_file      object\n",
              "cb_person_cred_hist_length      int64\n",
              "dtype: object"
            ]
          },
          "metadata": {
            "tags": []
          },
          "execution_count": 174
        }
      ]
    },
    {
      "cell_type": "markdown",
      "metadata": {
        "id": "HMpQNapOvcKb"
      },
      "source": [
        "# ***Exploratory Data Analysis along with Data Prerocessing***"
      ]
    },
    {
      "cell_type": "code",
      "metadata": {
        "id": "KpulnhFGD2yY"
      },
      "source": [
        "import numpy as np\r\n",
        "from matplotlib import pyplot as plt\r\n",
        "\r\n",
        "%matplotlib inline"
      ],
      "execution_count": 175,
      "outputs": []
    },
    {
      "cell_type": "code",
      "metadata": {
        "colab": {
          "base_uri": "https://localhost:8080/",
          "height": 295
        },
        "id": "c0NdIglgmebZ",
        "outputId": "65390aba-5a75-43f1-b7f5-17f8be1f6e96"
      },
      "source": [
        "n,bins,patches=plt.hist(cr_loan['loan_amnt'],bins='auto',color='blue',alpha=0.7,rwidth=0.85)\r\n",
        "plt.xlabel(\"Loan Amount\")\r\n",
        "plt.title(\"The Distribution of Loan Amounts\")\r\n",
        "plt.show()"
      ],
      "execution_count": 176,
      "outputs": [
        {
          "output_type": "display_data",
          "data": {
            "image/png": "[encoded data removed]",
            "text/plain": [
              "<Figure size 432x288 with 1 Axes>"
            ]
          },
          "metadata": {
            "tags": [],
            "needs_background": "light"
          }
        }
      ]
    },
    {
      "cell_type": "code",
      "metadata": {
        "colab": {
          "base_uri": "https://localhost:8080/",
          "height": 295
        },
        "id": "WOi_xPJ3EJA1",
        "outputId": "41a020cf-fa38-4b14-fcfb-67747a56795a"
      },
      "source": [
        "plt.scatter(cr_loan['person_income'],cr_loan['person_age'],c='blue',alpha=0.7)\r\n",
        "plt.xlabel(\"Person Income\")\r\n",
        "plt.ylabel(\"Person Age\")\r\n",
        "plt.title(\"Scatter Plot of Income vs Age\")\r\n",
        "plt.show()"
      ],
      "execution_count": 177,
      "outputs": [
        {
          "output_type": "display_data",
          "data": {
            "image/png": "[encoded data removed]",
            "text/plain": [
              "<Figure size 432x288 with 1 Axes>"
            ]
          },
          "metadata": {
            "tags": [],
            "needs_background": "light"
          }
        }
      ]
    },
    {
      "cell_type": "markdown",
      "metadata": {
        "id": "XZ0-9GTYwZK1"
      },
      "source": [
        "***Cross Table gives high level view of selected columns and even aggregation such as min,max,avg etc.***"
      ]
    },
    {
      "cell_type": "code",
      "metadata": {
        "colab": {
          "base_uri": "https://localhost:8080/",
          "height": 348
        },
        "id": "6GVU55_LEvNR",
        "outputId": "85eb5736-4cfd-4f45-dc92-75f750e628ab"
      },
      "source": [
        "print(\"\\nCross table of the loan intent and loan status\\n\")\r\n",
        "pd.crosstab(cr_loan['loan_intent'],cr_loan['loan_status'],margins=True)"
      ],
      "execution_count": 178,
      "outputs": [
        {
          "output_type": "stream",
          "text": [
            "\n",
            "Cross table of the loan intent and loan status\n",
            "\n"
          ],
          "name": "stdout"
        },
        {
          "output_type": "execute_result",
          "data": {
            "text/html": [
              "<div>\n",
              "<style scoped>\n",
              "    .dataframe tbody tr th:only-of-type {\n",
              "        vertical-align: middle;\n",
              "    }\n",
              "\n",
              "    .dataframe tbody tr th {\n",
              "        vertical-align: top;\n",
              "    }\n",
              "\n",
              "    .dataframe thead th {\n",
              "        text-align: right;\n",
              "    }\n",
              "</style>\n",
              "<table border=\"1\" class=\"dataframe\">\n",
              "  <thead>\n",
              "    <tr style=\"text-align: right;\">\n",
              "      <th>loan_status</th>\n",
              "      <th>0</th>\n",
              "      <th>1</th>\n",
              "      <th>All</th>\n",
              "    </tr>\n",
              "    <tr>\n",
              "      <th>loan_intent</th>\n",
              "      <th></th>\n",
              "      <th></th>\n",
              "      <th></th>\n",
              "    </tr>\n",
              "  </thead>\n",
              "  <tbody>\n",
              "    <tr>\n",
              "      <th>DEBTCONSOLIDATION</th>\n",
              "      <td>3722</td>\n",
              "      <td>1490</td>\n",
              "      <td>5212</td>\n",
              "    </tr>\n",
              "    <tr>\n",
              "      <th>EDUCATION</th>\n",
              "      <td>5342</td>\n",
              "      <td>1111</td>\n",
              "      <td>6453</td>\n",
              "    </tr>\n",
              "    <tr>\n",
              "      <th>HOMEIMPROVEMENT</th>\n",
              "      <td>2664</td>\n",
              "      <td>941</td>\n",
              "      <td>3605</td>\n",
              "    </tr>\n",
              "    <tr>\n",
              "      <th>MEDICAL</th>\n",
              "      <td>4450</td>\n",
              "      <td>1621</td>\n",
              "      <td>6071</td>\n",
              "    </tr>\n",
              "    <tr>\n",
              "      <th>PERSONAL</th>\n",
              "      <td>4423</td>\n",
              "      <td>1098</td>\n",
              "      <td>5521</td>\n",
              "    </tr>\n",
              "    <tr>\n",
              "      <th>VENTURE</th>\n",
              "      <td>4872</td>\n",
              "      <td>847</td>\n",
              "      <td>5719</td>\n",
              "    </tr>\n",
              "    <tr>\n",
              "      <th>All</th>\n",
              "      <td>25473</td>\n",
              "      <td>7108</td>\n",
              "      <td>32581</td>\n",
              "    </tr>\n",
              "  </tbody>\n",
              "</table>\n",
              "</div>"
            ],
            "text/plain": [
              "loan_status            0     1    All\n",
              "loan_intent                          \n",
              "DEBTCONSOLIDATION   3722  1490   5212\n",
              "EDUCATION           5342  1111   6453\n",
              "HOMEIMPROVEMENT     2664   941   3605\n",
              "MEDICAL             4450  1621   6071\n",
              "PERSONAL            4423  1098   5521\n",
              "VENTURE             4872   847   5719\n",
              "All                25473  7108  32581"
            ]
          },
          "metadata": {
            "tags": []
          },
          "execution_count": 178
        }
      ]
    },
    {
      "cell_type": "code",
      "metadata": {
        "colab": {
          "base_uri": "https://localhost:8080/",
          "height": 286
        },
        "id": "Zmqc5MhsF7LY",
        "outputId": "b0b245d2-6f01-46fd-f346-70c02e06ec85"
      },
      "source": [
        "print(\"\\nA cross table of home ownership, loan status, and grade\\n\")\r\n",
        "pd.crosstab(cr_loan['person_home_ownership'],[cr_loan['loan_status'],cr_loan['loan_grade']])"
      ],
      "execution_count": 179,
      "outputs": [
        {
          "output_type": "stream",
          "text": [
            "\n",
            "A cross table of home ownership, loan status, and grade\n",
            "\n"
          ],
          "name": "stdout"
        },
        {
          "output_type": "execute_result",
          "data": {
            "text/html": [
              "<div>\n",
              "<style scoped>\n",
              "    .dataframe tbody tr th:only-of-type {\n",
              "        vertical-align: middle;\n",
              "    }\n",
              "\n",
              "    .dataframe tbody tr th {\n",
              "        vertical-align: top;\n",
              "    }\n",
              "\n",
              "    .dataframe thead tr th {\n",
              "        text-align: left;\n",
              "    }\n",
              "\n",
              "    .dataframe thead tr:last-of-type th {\n",
              "        text-align: right;\n",
              "    }\n",
              "</style>\n",
              "<table border=\"1\" class=\"dataframe\">\n",
              "  <thead>\n",
              "    <tr>\n",
              "      <th>loan_status</th>\n",
              "      <th colspan=\"7\" halign=\"left\">0</th>\n",
              "      <th colspan=\"7\" halign=\"left\">1</th>\n",
              "    </tr>\n",
              "    <tr>\n",
              "      <th>loan_grade</th>\n",
              "      <th>A</th>\n",
              "      <th>B</th>\n",
              "      <th>C</th>\n",
              "      <th>D</th>\n",
              "      <th>E</th>\n",
              "      <th>F</th>\n",
              "      <th>G</th>\n",
              "      <th>A</th>\n",
              "      <th>B</th>\n",
              "      <th>C</th>\n",
              "      <th>D</th>\n",
              "      <th>E</th>\n",
              "      <th>F</th>\n",
              "      <th>G</th>\n",
              "    </tr>\n",
              "    <tr>\n",
              "      <th>person_home_ownership</th>\n",
              "      <th></th>\n",
              "      <th></th>\n",
              "      <th></th>\n",
              "      <th></th>\n",
              "      <th></th>\n",
              "      <th></th>\n",
              "      <th></th>\n",
              "      <th></th>\n",
              "      <th></th>\n",
              "      <th></th>\n",
              "      <th></th>\n",
              "      <th></th>\n",
              "      <th></th>\n",
              "      <th></th>\n",
              "    </tr>\n",
              "  </thead>\n",
              "  <tbody>\n",
              "    <tr>\n",
              "      <th>MORTGAGE</th>\n",
              "      <td>5219</td>\n",
              "      <td>3729</td>\n",
              "      <td>1934</td>\n",
              "      <td>658</td>\n",
              "      <td>178</td>\n",
              "      <td>36</td>\n",
              "      <td>0</td>\n",
              "      <td>239</td>\n",
              "      <td>324</td>\n",
              "      <td>321</td>\n",
              "      <td>553</td>\n",
              "      <td>161</td>\n",
              "      <td>61</td>\n",
              "      <td>31</td>\n",
              "    </tr>\n",
              "    <tr>\n",
              "      <th>OTHER</th>\n",
              "      <td>23</td>\n",
              "      <td>29</td>\n",
              "      <td>11</td>\n",
              "      <td>9</td>\n",
              "      <td>2</td>\n",
              "      <td>0</td>\n",
              "      <td>0</td>\n",
              "      <td>3</td>\n",
              "      <td>5</td>\n",
              "      <td>6</td>\n",
              "      <td>11</td>\n",
              "      <td>6</td>\n",
              "      <td>2</td>\n",
              "      <td>0</td>\n",
              "    </tr>\n",
              "    <tr>\n",
              "      <th>OWN</th>\n",
              "      <td>860</td>\n",
              "      <td>770</td>\n",
              "      <td>464</td>\n",
              "      <td>264</td>\n",
              "      <td>26</td>\n",
              "      <td>7</td>\n",
              "      <td>0</td>\n",
              "      <td>66</td>\n",
              "      <td>34</td>\n",
              "      <td>31</td>\n",
              "      <td>18</td>\n",
              "      <td>31</td>\n",
              "      <td>8</td>\n",
              "      <td>5</td>\n",
              "    </tr>\n",
              "    <tr>\n",
              "      <th>RENT</th>\n",
              "      <td>3602</td>\n",
              "      <td>4222</td>\n",
              "      <td>2710</td>\n",
              "      <td>554</td>\n",
              "      <td>137</td>\n",
              "      <td>28</td>\n",
              "      <td>1</td>\n",
              "      <td>765</td>\n",
              "      <td>1338</td>\n",
              "      <td>981</td>\n",
              "      <td>1559</td>\n",
              "      <td>423</td>\n",
              "      <td>99</td>\n",
              "      <td>27</td>\n",
              "    </tr>\n",
              "  </tbody>\n",
              "</table>\n",
              "</div>"
            ],
            "text/plain": [
              "loan_status               0                        ...    1                   \n",
              "loan_grade                A     B     C    D    E  ...    C     D    E   F   G\n",
              "person_home_ownership                              ...                        \n",
              "MORTGAGE               5219  3729  1934  658  178  ...  321   553  161  61  31\n",
              "OTHER                    23    29    11    9    2  ...    6    11    6   2   0\n",
              "OWN                     860   770   464  264   26  ...   31    18   31   8   5\n",
              "RENT                   3602  4222  2710  554  137  ...  981  1559  423  99  27\n",
              "\n",
              "[4 rows x 14 columns]"
            ]
          },
          "metadata": {
            "tags": []
          },
          "execution_count": 179
        }
      ]
    },
    {
      "cell_type": "code",
      "metadata": {
        "colab": {
          "base_uri": "https://localhost:8080/",
          "height": 255
        },
        "id": "n3BwnSAZGcny",
        "outputId": "9d7ca202-cd3e-4144-8b5c-4dd4562ec0bd"
      },
      "source": [
        "print(\"\\nA cross table of home ownership, loan status, and average percent income\\n\")\r\n",
        "pd.crosstab(cr_loan['person_home_ownership'],cr_loan['loan_status'],values=cr_loan['loan_percent_income'],aggfunc='mean')"
      ],
      "execution_count": 180,
      "outputs": [
        {
          "output_type": "stream",
          "text": [
            "\n",
            "A cross table of home ownership, loan status, and average percent income\n",
            "\n"
          ],
          "name": "stdout"
        },
        {
          "output_type": "execute_result",
          "data": {
            "text/html": [
              "<div>\n",
              "<style scoped>\n",
              "    .dataframe tbody tr th:only-of-type {\n",
              "        vertical-align: middle;\n",
              "    }\n",
              "\n",
              "    .dataframe tbody tr th {\n",
              "        vertical-align: top;\n",
              "    }\n",
              "\n",
              "    .dataframe thead th {\n",
              "        text-align: right;\n",
              "    }\n",
              "</style>\n",
              "<table border=\"1\" class=\"dataframe\">\n",
              "  <thead>\n",
              "    <tr style=\"text-align: right;\">\n",
              "      <th>loan_status</th>\n",
              "      <th>0</th>\n",
              "      <th>1</th>\n",
              "    </tr>\n",
              "    <tr>\n",
              "      <th>person_home_ownership</th>\n",
              "      <th></th>\n",
              "      <th></th>\n",
              "    </tr>\n",
              "  </thead>\n",
              "  <tbody>\n",
              "    <tr>\n",
              "      <th>MORTGAGE</th>\n",
              "      <td>0.146504</td>\n",
              "      <td>0.184882</td>\n",
              "    </tr>\n",
              "    <tr>\n",
              "      <th>OTHER</th>\n",
              "      <td>0.143784</td>\n",
              "      <td>0.300000</td>\n",
              "    </tr>\n",
              "    <tr>\n",
              "      <th>OWN</th>\n",
              "      <td>0.180013</td>\n",
              "      <td>0.297358</td>\n",
              "    </tr>\n",
              "    <tr>\n",
              "      <th>RENT</th>\n",
              "      <td>0.144611</td>\n",
              "      <td>0.264859</td>\n",
              "    </tr>\n",
              "  </tbody>\n",
              "</table>\n",
              "</div>"
            ],
            "text/plain": [
              "loan_status                   0         1\n",
              "person_home_ownership                    \n",
              "MORTGAGE               0.146504  0.184882\n",
              "OTHER                  0.143784  0.300000\n",
              "OWN                    0.180013  0.297358\n",
              "RENT                   0.144611  0.264859"
            ]
          },
          "metadata": {
            "tags": []
          },
          "execution_count": 180
        }
      ]
    },
    {
      "cell_type": "code",
      "metadata": {
        "colab": {
          "base_uri": "https://localhost:8080/",
          "height": 349
        },
        "id": "LbgBqoGqHGnr",
        "outputId": "eb0e3299-d471-43c4-cbc3-57b83bb85284"
      },
      "source": [
        "cr_loan.boxplot(column=['loan_percent_income'],by='loan_status')\r\n",
        "plt.title(\"Average Percent Income by Load Status\")\r\n",
        "plt.suptitle('')\r\n",
        "plt.show()"
      ],
      "execution_count": 181,
      "outputs": [
        {
          "output_type": "stream",
          "text": [
            "/usr/local/lib/python3.6/dist-packages/numpy/core/_asarray.py:83: VisibleDeprecationWarning: Creating an ndarray from ragged nested sequences (which is a list-or-tuple of lists-or-tuples-or ndarrays with different lengths or shapes) is deprecated. If you meant to do this, you must specify 'dtype=object' when creating the ndarray\n",
            "  return array(a, dtype, copy=False, order=order)\n"
          ],
          "name": "stderr"
        },
        {
          "output_type": "display_data",
          "data": {
            "image/png": "[encoded data removed]",
            "text/plain": [
              "<Figure size 432x288 with 1 Axes>"
            ]
          },
          "metadata": {
            "tags": [],
            "needs_background": "light"
          }
        }
      ]
    },
    {
      "cell_type": "markdown",
      "metadata": {
        "id": "kk8gIQcXxcro"
      },
      "source": [
        "### ***Outlier Detection***\r\n",
        "An outlier is an observation that lies an abnormal distance from other values in a random sample from a population. Outlier Affect on variance, and standard deviation of a data distribution. In a data distribution, with extreme outliers, the distribution is skewed in the direction of the outliers which makes it difficult to analyze the data. It can also affect on machine learining model."
      ]
    },
    {
      "cell_type": "code",
      "metadata": {
        "colab": {
          "base_uri": "https://localhost:8080/",
          "height": 193
        },
        "id": "oaQ9UG8tHre1",
        "outputId": "138ad1c7-cbd6-4fc8-df33-03cb64436377"
      },
      "source": [
        "print(\"\\nCross table for loan status, home ownership, and the max employment length\\n\")\r\n",
        "pd.crosstab(cr_loan['loan_status'],cr_loan['person_home_ownership'],values=cr_loan['person_emp_length'],aggfunc='max')"
      ],
      "execution_count": 182,
      "outputs": [
        {
          "output_type": "stream",
          "text": [
            "\n",
            "Cross table for loan status, home ownership, and the max employment length\n",
            "\n"
          ],
          "name": "stdout"
        },
        {
          "output_type": "execute_result",
          "data": {
            "text/html": [
              "<div>\n",
              "<style scoped>\n",
              "    .dataframe tbody tr th:only-of-type {\n",
              "        vertical-align: middle;\n",
              "    }\n",
              "\n",
              "    .dataframe tbody tr th {\n",
              "        vertical-align: top;\n",
              "    }\n",
              "\n",
              "    .dataframe thead th {\n",
              "        text-align: right;\n",
              "    }\n",
              "</style>\n",
              "<table border=\"1\" class=\"dataframe\">\n",
              "  <thead>\n",
              "    <tr style=\"text-align: right;\">\n",
              "      <th>person_home_ownership</th>\n",
              "      <th>MORTGAGE</th>\n",
              "      <th>OTHER</th>\n",
              "      <th>OWN</th>\n",
              "      <th>RENT</th>\n",
              "    </tr>\n",
              "    <tr>\n",
              "      <th>loan_status</th>\n",
              "      <th></th>\n",
              "      <th></th>\n",
              "      <th></th>\n",
              "      <th></th>\n",
              "    </tr>\n",
              "  </thead>\n",
              "  <tbody>\n",
              "    <tr>\n",
              "      <th>0</th>\n",
              "      <td>123.0</td>\n",
              "      <td>24.0</td>\n",
              "      <td>31.0</td>\n",
              "      <td>41.0</td>\n",
              "    </tr>\n",
              "    <tr>\n",
              "      <th>1</th>\n",
              "      <td>34.0</td>\n",
              "      <td>11.0</td>\n",
              "      <td>17.0</td>\n",
              "      <td>123.0</td>\n",
              "    </tr>\n",
              "  </tbody>\n",
              "</table>\n",
              "</div>"
            ],
            "text/plain": [
              "person_home_ownership  MORTGAGE  OTHER   OWN   RENT\n",
              "loan_status                                        \n",
              "0                         123.0   24.0  31.0   41.0\n",
              "1                          34.0   11.0  17.0  123.0"
            ]
          },
          "metadata": {
            "tags": []
          },
          "execution_count": 182
        }
      ]
    },
    {
      "cell_type": "markdown",
      "metadata": {
        "id": "VjU_CLCH7zfL"
      },
      "source": [
        "***It may not be possible for a person to have an employment length of less than 0 or greater than 60***"
      ]
    },
    {
      "cell_type": "code",
      "metadata": {
        "id": "zdSRJrN8IWWl"
      },
      "source": [
        "indices = cr_loan[cr_loan['person_emp_length'] > 60].index"
      ],
      "execution_count": 183,
      "outputs": []
    },
    {
      "cell_type": "code",
      "metadata": {
        "id": "9wkZ6ps9IxhW"
      },
      "source": [
        "cr_loan.drop(indices,inplace=True)"
      ],
      "execution_count": 184,
      "outputs": []
    },
    {
      "cell_type": "code",
      "metadata": {
        "colab": {
          "base_uri": "https://localhost:8080/",
          "height": 142
        },
        "id": "9XdZHvFTLO4H",
        "outputId": "2f6a2909-40c0-4f16-8f72-72cd5ebdd1ad"
      },
      "source": [
        "pd.crosstab(cr_loan['loan_status'],cr_loan['person_home_ownership'],values=cr_loan['person_emp_length'],aggfunc='max')"
      ],
      "execution_count": 185,
      "outputs": [
        {
          "output_type": "execute_result",
          "data": {
            "text/html": [
              "<div>\n",
              "<style scoped>\n",
              "    .dataframe tbody tr th:only-of-type {\n",
              "        vertical-align: middle;\n",
              "    }\n",
              "\n",
              "    .dataframe tbody tr th {\n",
              "        vertical-align: top;\n",
              "    }\n",
              "\n",
              "    .dataframe thead th {\n",
              "        text-align: right;\n",
              "    }\n",
              "</style>\n",
              "<table border=\"1\" class=\"dataframe\">\n",
              "  <thead>\n",
              "    <tr style=\"text-align: right;\">\n",
              "      <th>person_home_ownership</th>\n",
              "      <th>MORTGAGE</th>\n",
              "      <th>OTHER</th>\n",
              "      <th>OWN</th>\n",
              "      <th>RENT</th>\n",
              "    </tr>\n",
              "    <tr>\n",
              "      <th>loan_status</th>\n",
              "      <th></th>\n",
              "      <th></th>\n",
              "      <th></th>\n",
              "      <th></th>\n",
              "    </tr>\n",
              "  </thead>\n",
              "  <tbody>\n",
              "    <tr>\n",
              "      <th>0</th>\n",
              "      <td>38.0</td>\n",
              "      <td>24.0</td>\n",
              "      <td>31.0</td>\n",
              "      <td>41.0</td>\n",
              "    </tr>\n",
              "    <tr>\n",
              "      <th>1</th>\n",
              "      <td>34.0</td>\n",
              "      <td>11.0</td>\n",
              "      <td>17.0</td>\n",
              "      <td>27.0</td>\n",
              "    </tr>\n",
              "  </tbody>\n",
              "</table>\n",
              "</div>"
            ],
            "text/plain": [
              "person_home_ownership  MORTGAGE  OTHER   OWN  RENT\n",
              "loan_status                                       \n",
              "0                          38.0   24.0  31.0  41.0\n",
              "1                          34.0   11.0  17.0  27.0"
            ]
          },
          "metadata": {
            "tags": []
          },
          "execution_count": 185
        }
      ]
    },
    {
      "cell_type": "markdown",
      "metadata": {
        "id": "dR3spHqL8PVx"
      },
      "source": [
        "***After dropping the outliers, the crosstable looks more realistic!***"
      ]
    },
    {
      "cell_type": "code",
      "metadata": {
        "colab": {
          "base_uri": "https://localhost:8080/",
          "height": 295
        },
        "id": "SJkXQ2X0JKKO",
        "outputId": "6875cee2-b989-41f3-8fca-2278fe219bb6"
      },
      "source": [
        "plt.scatter(cr_loan['person_age'],cr_loan['loan_amnt'],c='blue',alpha=0.7)\r\n",
        "plt.xlabel(\"Person Age\")\r\n",
        "plt.ylabel(\"Loan Amount\")\r\n",
        "plt.title(\"Scatter plot for age and amount\")\r\n",
        "plt.show()"
      ],
      "execution_count": 186,
      "outputs": [
        {
          "output_type": "display_data",
          "data": {
            "image/png": "[encoded data removed]",
            "text/plain": [
              "<Figure size 432x288 with 1 Axes>"
            ]
          },
          "metadata": {
            "tags": [],
            "needs_background": "light"
          }
        }
      ]
    },
    {
      "cell_type": "markdown",
      "metadata": {
        "id": "Ql7n7kvi8zaa"
      },
      "source": [
        "***It is very unlikely that a person applying for a loan will be over 100 years old***"
      ]
    },
    {
      "cell_type": "code",
      "metadata": {
        "id": "B4nlAIl2MRIv"
      },
      "source": [
        "cr_loan.drop(cr_loan[cr_loan['person_age'] > 100].index,inplace=True)"
      ],
      "execution_count": 187,
      "outputs": []
    },
    {
      "cell_type": "code",
      "metadata": {
        "colab": {
          "base_uri": "https://localhost:8080/",
          "height": 295
        },
        "id": "5JslTZpeMY_a",
        "outputId": "2d2e1b8b-c24a-4e07-ef4a-37fdb5608565"
      },
      "source": [
        "import matplotlib\r\n",
        "colors=[\"blue\",\"red\"]\r\n",
        "plt.scatter(cr_loan['person_age'],cr_loan['loan_amnt'],c=cr_loan['loan_status'],cmap=matplotlib.colors.ListedColormap(colors),alpha=0.5)\r\n",
        "plt.xlabel(\"Person Age\")\r\n",
        "plt.ylabel(\"Loan Amount\")\r\n",
        "plt.title(\"Scatter plot for age and amount after removing the outliers\")\r\n",
        "plt.show()"
      ],
      "execution_count": 188,
      "outputs": [
        {
          "output_type": "display_data",
          "data": {
            "image/png": "[encoded data removed]",
            "text/plain": [
              "<Figure size 432x288 with 1 Axes>"
            ]
          },
          "metadata": {
            "tags": [],
            "needs_background": "light"
          }
        }
      ]
    },
    {
      "cell_type": "markdown",
      "metadata": {
        "id": "nskvw1HA9srm"
      },
      "source": [
        "### ***Missing Data***\r\n",
        "Sometimes there maybe null values instead of actual value. It negatively affects meachine learning model performance and even may cause errors for some macjine learning models."
      ]
    },
    {
      "cell_type": "code",
      "metadata": {
        "colab": {
          "base_uri": "https://localhost:8080/"
        },
        "id": "5o6yE3kkMgQ0",
        "outputId": "a79c4f20-cc50-45d4-cd3b-4837a6272732"
      },
      "source": [
        "cr_loan.isnull().sum()"
      ],
      "execution_count": 189,
      "outputs": [
        {
          "output_type": "execute_result",
          "data": {
            "text/plain": [
              "person_age                       0\n",
              "person_income                    0\n",
              "person_home_ownership            0\n",
              "person_emp_length              895\n",
              "loan_intent                      0\n",
              "loan_grade                       0\n",
              "loan_amnt                        0\n",
              "loan_int_rate                 3115\n",
              "loan_status                      0\n",
              "loan_percent_income              0\n",
              "cb_person_default_on_file        0\n",
              "cb_person_cred_hist_length       0\n",
              "dtype: int64"
            ]
          },
          "metadata": {
            "tags": []
          },
          "execution_count": 189
        }
      ]
    },
    {
      "cell_type": "code",
      "metadata": {
        "colab": {
          "base_uri": "https://localhost:8080/"
        },
        "id": "m4YrqWtQM6Hz",
        "outputId": "8b37c3a5-de48-4216-e44d-e5f1f8b68dbf"
      },
      "source": [
        "print(cr_loan.columns[cr_loan.isnull().any()])"
      ],
      "execution_count": 190,
      "outputs": [
        {
          "output_type": "stream",
          "text": [
            "Index(['person_emp_length', 'loan_int_rate'], dtype='object')\n"
          ],
          "name": "stdout"
        }
      ]
    },
    {
      "cell_type": "markdown",
      "metadata": {
        "id": "PMqIZCvu_EIV"
      },
      "source": [
        "**Replacing the missing values of** ***person employment length*** **with median-**\r\n",
        "\r\n",
        "\r\n",
        "\r\n"
      ]
    },
    {
      "cell_type": "code",
      "metadata": {
        "id": "3ywU5ZpyNCN-"
      },
      "source": [
        "cr_loan['person_emp_length'].fillna((cr_loan['person_emp_length'].median()),inplace=True)"
      ],
      "execution_count": 191,
      "outputs": []
    },
    {
      "cell_type": "code",
      "metadata": {
        "colab": {
          "base_uri": "https://localhost:8080/",
          "height": 295
        },
        "id": "QM6pgBySNkkH",
        "outputId": "e0bc61d9-1213-4c57-9b53-dc6a61ebfc2c"
      },
      "source": [
        "n,bins,patches=plt.hist(cr_loan['person_emp_length'],bins='auto',color='blue')\r\n",
        "plt.xlabel(\"Persons Employment Length\")\r\n",
        "plt.title(\"Histogram of Persons Employment Length\")\r\n",
        "plt.show()"
      ],
      "execution_count": 192,
      "outputs": [
        {
          "output_type": "display_data",
          "data": {
            "image/png": "[encoded data removed]",
            "text/plain": [
              "<Figure size 432x288 with 1 Axes>"
            ]
          },
          "metadata": {
            "tags": [],
            "needs_background": "light"
          }
        }
      ]
    },
    {
      "cell_type": "markdown",
      "metadata": {
        "id": "yqrE1FKtAVE0"
      },
      "source": [
        "***Interest rates are set by the company, having missing data in this column is very strange. It's possible that data ingestion issues created errors, but we cannot know for sure***\r\n",
        "\r\n",
        "***So,  it's best to remove these records...***"
      ]
    },
    {
      "cell_type": "code",
      "metadata": {
        "id": "fS2IepMrN7SR"
      },
      "source": [
        "indices=cr_loan[cr_loan['loan_int_rate'].isnull()].index"
      ],
      "execution_count": 193,
      "outputs": []
    },
    {
      "cell_type": "code",
      "metadata": {
        "id": "5g7o5nHhOaWN"
      },
      "source": [
        "cr_loan_clean=cr_loan.drop(indices)"
      ],
      "execution_count": 194,
      "outputs": []
    },
    {
      "cell_type": "markdown",
      "metadata": {
        "id": "dwBFxmUsA7PT"
      },
      "source": [
        "***After handling the missing data, this is our clean data which is shown below-***"
      ]
    },
    {
      "cell_type": "code",
      "metadata": {
        "colab": {
          "base_uri": "https://localhost:8080/",
          "height": 439
        },
        "id": "FmPBB-ZiQE-r",
        "outputId": "6f4a8933-ddbd-44d1-cb6b-ac809907ba43"
      },
      "source": [
        "cr_loan_clean"
      ],
      "execution_count": 195,
      "outputs": [
        {
          "output_type": "execute_result",
          "data": {
            "text/html": [
              "<div>\n",
              "<style scoped>\n",
              "    .dataframe tbody tr th:only-of-type {\n",
              "        vertical-align: middle;\n",
              "    }\n",
              "\n",
              "    .dataframe tbody tr th {\n",
              "        vertical-align: top;\n",
              "    }\n",
              "\n",
              "    .dataframe thead th {\n",
              "        text-align: right;\n",
              "    }\n",
              "</style>\n",
              "<table border=\"1\" class=\"dataframe\">\n",
              "  <thead>\n",
              "    <tr style=\"text-align: right;\">\n",
              "      <th></th>\n",
              "      <th>person_age</th>\n",
              "      <th>person_income</th>\n",
              "      <th>person_home_ownership</th>\n",
              "      <th>person_emp_length</th>\n",
              "      <th>loan_intent</th>\n",
              "      <th>loan_grade</th>\n",
              "      <th>loan_amnt</th>\n",
              "      <th>loan_int_rate</th>\n",
              "      <th>loan_status</th>\n",
              "      <th>loan_percent_income</th>\n",
              "      <th>cb_person_default_on_file</th>\n",
              "      <th>cb_person_cred_hist_length</th>\n",
              "    </tr>\n",
              "  </thead>\n",
              "  <tbody>\n",
              "    <tr>\n",
              "      <th>1</th>\n",
              "      <td>21</td>\n",
              "      <td>9600</td>\n",
              "      <td>OWN</td>\n",
              "      <td>5.0</td>\n",
              "      <td>EDUCATION</td>\n",
              "      <td>B</td>\n",
              "      <td>1000</td>\n",
              "      <td>11.14</td>\n",
              "      <td>0</td>\n",
              "      <td>0.10</td>\n",
              "      <td>N</td>\n",
              "      <td>2</td>\n",
              "    </tr>\n",
              "    <tr>\n",
              "      <th>2</th>\n",
              "      <td>25</td>\n",
              "      <td>9600</td>\n",
              "      <td>MORTGAGE</td>\n",
              "      <td>1.0</td>\n",
              "      <td>MEDICAL</td>\n",
              "      <td>C</td>\n",
              "      <td>5500</td>\n",
              "      <td>12.87</td>\n",
              "      <td>1</td>\n",
              "      <td>0.57</td>\n",
              "      <td>N</td>\n",
              "      <td>3</td>\n",
              "    </tr>\n",
              "    <tr>\n",
              "      <th>3</th>\n",
              "      <td>23</td>\n",
              "      <td>65500</td>\n",
              "      <td>RENT</td>\n",
              "      <td>4.0</td>\n",
              "      <td>MEDICAL</td>\n",
              "      <td>C</td>\n",
              "      <td>35000</td>\n",
              "      <td>15.23</td>\n",
              "      <td>1</td>\n",
              "      <td>0.53</td>\n",
              "      <td>N</td>\n",
              "      <td>2</td>\n",
              "    </tr>\n",
              "    <tr>\n",
              "      <th>4</th>\n",
              "      <td>24</td>\n",
              "      <td>54400</td>\n",
              "      <td>RENT</td>\n",
              "      <td>8.0</td>\n",
              "      <td>MEDICAL</td>\n",
              "      <td>C</td>\n",
              "      <td>35000</td>\n",
              "      <td>14.27</td>\n",
              "      <td>1</td>\n",
              "      <td>0.55</td>\n",
              "      <td>Y</td>\n",
              "      <td>4</td>\n",
              "    </tr>\n",
              "    <tr>\n",
              "      <th>5</th>\n",
              "      <td>21</td>\n",
              "      <td>9900</td>\n",
              "      <td>OWN</td>\n",
              "      <td>2.0</td>\n",
              "      <td>VENTURE</td>\n",
              "      <td>A</td>\n",
              "      <td>2500</td>\n",
              "      <td>7.14</td>\n",
              "      <td>1</td>\n",
              "      <td>0.25</td>\n",
              "      <td>N</td>\n",
              "      <td>2</td>\n",
              "    </tr>\n",
              "    <tr>\n",
              "      <th>...</th>\n",
              "      <td>...</td>\n",
              "      <td>...</td>\n",
              "      <td>...</td>\n",
              "      <td>...</td>\n",
              "      <td>...</td>\n",
              "      <td>...</td>\n",
              "      <td>...</td>\n",
              "      <td>...</td>\n",
              "      <td>...</td>\n",
              "      <td>...</td>\n",
              "      <td>...</td>\n",
              "      <td>...</td>\n",
              "    </tr>\n",
              "    <tr>\n",
              "      <th>32576</th>\n",
              "      <td>57</td>\n",
              "      <td>53000</td>\n",
              "      <td>MORTGAGE</td>\n",
              "      <td>1.0</td>\n",
              "      <td>PERSONAL</td>\n",
              "      <td>C</td>\n",
              "      <td>5800</td>\n",
              "      <td>13.16</td>\n",
              "      <td>0</td>\n",
              "      <td>0.11</td>\n",
              "      <td>N</td>\n",
              "      <td>30</td>\n",
              "    </tr>\n",
              "    <tr>\n",
              "      <th>32577</th>\n",
              "      <td>54</td>\n",
              "      <td>120000</td>\n",
              "      <td>MORTGAGE</td>\n",
              "      <td>4.0</td>\n",
              "      <td>PERSONAL</td>\n",
              "      <td>A</td>\n",
              "      <td>17625</td>\n",
              "      <td>7.49</td>\n",
              "      <td>0</td>\n",
              "      <td>0.15</td>\n",
              "      <td>N</td>\n",
              "      <td>19</td>\n",
              "    </tr>\n",
              "    <tr>\n",
              "      <th>32578</th>\n",
              "      <td>65</td>\n",
              "      <td>76000</td>\n",
              "      <td>RENT</td>\n",
              "      <td>3.0</td>\n",
              "      <td>HOMEIMPROVEMENT</td>\n",
              "      <td>B</td>\n",
              "      <td>35000</td>\n",
              "      <td>10.99</td>\n",
              "      <td>1</td>\n",
              "      <td>0.46</td>\n",
              "      <td>N</td>\n",
              "      <td>28</td>\n",
              "    </tr>\n",
              "    <tr>\n",
              "      <th>32579</th>\n",
              "      <td>56</td>\n",
              "      <td>150000</td>\n",
              "      <td>MORTGAGE</td>\n",
              "      <td>5.0</td>\n",
              "      <td>PERSONAL</td>\n",
              "      <td>B</td>\n",
              "      <td>15000</td>\n",
              "      <td>11.48</td>\n",
              "      <td>0</td>\n",
              "      <td>0.10</td>\n",
              "      <td>N</td>\n",
              "      <td>26</td>\n",
              "    </tr>\n",
              "    <tr>\n",
              "      <th>32580</th>\n",
              "      <td>66</td>\n",
              "      <td>42000</td>\n",
              "      <td>RENT</td>\n",
              "      <td>2.0</td>\n",
              "      <td>MEDICAL</td>\n",
              "      <td>B</td>\n",
              "      <td>6475</td>\n",
              "      <td>9.99</td>\n",
              "      <td>0</td>\n",
              "      <td>0.15</td>\n",
              "      <td>N</td>\n",
              "      <td>30</td>\n",
              "    </tr>\n",
              "  </tbody>\n",
              "</table>\n",
              "<p>29459 rows × 12 columns</p>\n",
              "</div>"
            ],
            "text/plain": [
              "       person_age  ...  cb_person_cred_hist_length\n",
              "1              21  ...                           2\n",
              "2              25  ...                           3\n",
              "3              23  ...                           2\n",
              "4              24  ...                           4\n",
              "5              21  ...                           2\n",
              "...           ...  ...                         ...\n",
              "32576          57  ...                          30\n",
              "32577          54  ...                          19\n",
              "32578          65  ...                          28\n",
              "32579          56  ...                          26\n",
              "32580          66  ...                          30\n",
              "\n",
              "[29459 rows x 12 columns]"
            ]
          },
          "metadata": {
            "tags": []
          },
          "execution_count": 195
        }
      ]
    },
    {
      "cell_type": "code",
      "metadata": {
        "colab": {
          "base_uri": "https://localhost:8080/"
        },
        "id": "GI2FYhGBQRu7",
        "outputId": "0adff1ce-3158-4ed9-abde-47dc6c364719"
      },
      "source": [
        "cr_loan_clean.shape"
      ],
      "execution_count": 196,
      "outputs": [
        {
          "output_type": "execute_result",
          "data": {
            "text/plain": [
              "(29459, 12)"
            ]
          },
          "metadata": {
            "tags": []
          },
          "execution_count": 196
        }
      ]
    },
    {
      "cell_type": "code",
      "metadata": {
        "colab": {
          "base_uri": "https://localhost:8080/"
        },
        "id": "_mYF4ck-QUmL",
        "outputId": "84051af5-47fa-4012-8e8b-75113ab3b32e"
      },
      "source": [
        "cr_loan_clean.isnull().sum()"
      ],
      "execution_count": 197,
      "outputs": [
        {
          "output_type": "execute_result",
          "data": {
            "text/plain": [
              "person_age                    0\n",
              "person_income                 0\n",
              "person_home_ownership         0\n",
              "person_emp_length             0\n",
              "loan_intent                   0\n",
              "loan_grade                    0\n",
              "loan_amnt                     0\n",
              "loan_int_rate                 0\n",
              "loan_status                   0\n",
              "loan_percent_income           0\n",
              "cb_person_default_on_file     0\n",
              "cb_person_cred_hist_length    0\n",
              "dtype: int64"
            ]
          },
          "metadata": {
            "tags": []
          },
          "execution_count": 197
        }
      ]
    },
    {
      "cell_type": "markdown",
      "metadata": {
        "id": "LPnZx5sbBaCn"
      },
      "source": [
        "***No missing values......***"
      ]
    },
    {
      "cell_type": "markdown",
      "metadata": {
        "id": "J8aBNerjGlg7"
      },
      "source": [
        "### ***Encoding***\r\n",
        "\r\n",
        "Machine learning models cannot perform with nun-numeric columns. It will cause errors unless precessed. So we need to convert those columns to numeric columns which is called encoding."
      ]
    },
    {
      "cell_type": "code",
      "metadata": {
        "id": "xwu4QI7ZFCcF"
      },
      "source": [
        "cred_num=cr_loan_clean.select_dtypes(exclude=['object'])"
      ],
      "execution_count": 198,
      "outputs": []
    },
    {
      "cell_type": "code",
      "metadata": {
        "id": "ArL84eh8FCK2"
      },
      "source": [
        "cred_str=cr_loan_clean.select_dtypes(include=['object'])"
      ],
      "execution_count": 199,
      "outputs": []
    },
    {
      "cell_type": "code",
      "metadata": {
        "id": "mCYO4fqEFB9e"
      },
      "source": [
        "cred_str_encode=pd.get_dummies(cred_str,drop_first=True)"
      ],
      "execution_count": 200,
      "outputs": []
    },
    {
      "cell_type": "code",
      "metadata": {
        "id": "xU82OZgFFBxv"
      },
      "source": [
        "cr_loan_final=pd.concat([cred_num,cred_str_encode],axis=1)"
      ],
      "execution_count": 201,
      "outputs": []
    },
    {
      "cell_type": "code",
      "metadata": {
        "colab": {
          "base_uri": "https://localhost:8080/",
          "height": 379
        },
        "id": "YYn-q4u4FBlR",
        "outputId": "aa718d18-bfca-498b-e656-3032874627e2"
      },
      "source": [
        "cr_loan_final.head(10)"
      ],
      "execution_count": 202,
      "outputs": [
        {
          "output_type": "execute_result",
          "data": {
            "text/html": [
              "<div>\n",
              "<style scoped>\n",
              "    .dataframe tbody tr th:only-of-type {\n",
              "        vertical-align: middle;\n",
              "    }\n",
              "\n",
              "    .dataframe tbody tr th {\n",
              "        vertical-align: top;\n",
              "    }\n",
              "\n",
              "    .dataframe thead th {\n",
              "        text-align: right;\n",
              "    }\n",
              "</style>\n",
              "<table border=\"1\" class=\"dataframe\">\n",
              "  <thead>\n",
              "    <tr style=\"text-align: right;\">\n",
              "      <th></th>\n",
              "      <th>person_age</th>\n",
              "      <th>person_income</th>\n",
              "      <th>person_emp_length</th>\n",
              "      <th>loan_amnt</th>\n",
              "      <th>loan_int_rate</th>\n",
              "      <th>loan_status</th>\n",
              "      <th>loan_percent_income</th>\n",
              "      <th>cb_person_cred_hist_length</th>\n",
              "      <th>person_home_ownership_OTHER</th>\n",
              "      <th>person_home_ownership_OWN</th>\n",
              "      <th>person_home_ownership_RENT</th>\n",
              "      <th>loan_intent_EDUCATION</th>\n",
              "      <th>loan_intent_HOMEIMPROVEMENT</th>\n",
              "      <th>loan_intent_MEDICAL</th>\n",
              "      <th>loan_intent_PERSONAL</th>\n",
              "      <th>loan_intent_VENTURE</th>\n",
              "      <th>loan_grade_B</th>\n",
              "      <th>loan_grade_C</th>\n",
              "      <th>loan_grade_D</th>\n",
              "      <th>loan_grade_E</th>\n",
              "      <th>loan_grade_F</th>\n",
              "      <th>loan_grade_G</th>\n",
              "      <th>cb_person_default_on_file_Y</th>\n",
              "    </tr>\n",
              "  </thead>\n",
              "  <tbody>\n",
              "    <tr>\n",
              "      <th>1</th>\n",
              "      <td>21</td>\n",
              "      <td>9600</td>\n",
              "      <td>5.0</td>\n",
              "      <td>1000</td>\n",
              "      <td>11.14</td>\n",
              "      <td>0</td>\n",
              "      <td>0.10</td>\n",
              "      <td>2</td>\n",
              "      <td>0</td>\n",
              "      <td>1</td>\n",
              "      <td>0</td>\n",
              "      <td>1</td>\n",
              "      <td>0</td>\n",
              "      <td>0</td>\n",
              "      <td>0</td>\n",
              "      <td>0</td>\n",
              "      <td>1</td>\n",
              "      <td>0</td>\n",
              "      <td>0</td>\n",
              "      <td>0</td>\n",
              "      <td>0</td>\n",
              "      <td>0</td>\n",
              "      <td>0</td>\n",
              "    </tr>\n",
              "    <tr>\n",
              "      <th>2</th>\n",
              "      <td>25</td>\n",
              "      <td>9600</td>\n",
              "      <td>1.0</td>\n",
              "      <td>5500</td>\n",
              "      <td>12.87</td>\n",
              "      <td>1</td>\n",
              "      <td>0.57</td>\n",
              "      <td>3</td>\n",
              "      <td>0</td>\n",
              "      <td>0</td>\n",
              "      <td>0</td>\n",
              "      <td>0</td>\n",
              "      <td>0</td>\n",
              "      <td>1</td>\n",
              "      <td>0</td>\n",
              "      <td>0</td>\n",
              "      <td>0</td>\n",
              "      <td>1</td>\n",
              "      <td>0</td>\n",
              "      <td>0</td>\n",
              "      <td>0</td>\n",
              "      <td>0</td>\n",
              "      <td>0</td>\n",
              "    </tr>\n",
              "    <tr>\n",
              "      <th>3</th>\n",
              "      <td>23</td>\n",
              "      <td>65500</td>\n",
              "      <td>4.0</td>\n",
              "      <td>35000</td>\n",
              "      <td>15.23</td>\n",
              "      <td>1</td>\n",
              "      <td>0.53</td>\n",
              "      <td>2</td>\n",
              "      <td>0</td>\n",
              "      <td>0</td>\n",
              "      <td>1</td>\n",
              "      <td>0</td>\n",
              "      <td>0</td>\n",
              "      <td>1</td>\n",
              "      <td>0</td>\n",
              "      <td>0</td>\n",
              "      <td>0</td>\n",
              "      <td>1</td>\n",
              "      <td>0</td>\n",
              "      <td>0</td>\n",
              "      <td>0</td>\n",
              "      <td>0</td>\n",
              "      <td>0</td>\n",
              "    </tr>\n",
              "    <tr>\n",
              "      <th>4</th>\n",
              "      <td>24</td>\n",
              "      <td>54400</td>\n",
              "      <td>8.0</td>\n",
              "      <td>35000</td>\n",
              "      <td>14.27</td>\n",
              "      <td>1</td>\n",
              "      <td>0.55</td>\n",
              "      <td>4</td>\n",
              "      <td>0</td>\n",
              "      <td>0</td>\n",
              "      <td>1</td>\n",
              "      <td>0</td>\n",
              "      <td>0</td>\n",
              "      <td>1</td>\n",
              "      <td>0</td>\n",
              "      <td>0</td>\n",
              "      <td>0</td>\n",
              "      <td>1</td>\n",
              "      <td>0</td>\n",
              "      <td>0</td>\n",
              "      <td>0</td>\n",
              "      <td>0</td>\n",
              "      <td>1</td>\n",
              "    </tr>\n",
              "    <tr>\n",
              "      <th>5</th>\n",
              "      <td>21</td>\n",
              "      <td>9900</td>\n",
              "      <td>2.0</td>\n",
              "      <td>2500</td>\n",
              "      <td>7.14</td>\n",
              "      <td>1</td>\n",
              "      <td>0.25</td>\n",
              "      <td>2</td>\n",
              "      <td>0</td>\n",
              "      <td>1</td>\n",
              "      <td>0</td>\n",
              "      <td>0</td>\n",
              "      <td>0</td>\n",
              "      <td>0</td>\n",
              "      <td>0</td>\n",
              "      <td>1</td>\n",
              "      <td>0</td>\n",
              "      <td>0</td>\n",
              "      <td>0</td>\n",
              "      <td>0</td>\n",
              "      <td>0</td>\n",
              "      <td>0</td>\n",
              "      <td>0</td>\n",
              "    </tr>\n",
              "    <tr>\n",
              "      <th>6</th>\n",
              "      <td>26</td>\n",
              "      <td>77100</td>\n",
              "      <td>8.0</td>\n",
              "      <td>35000</td>\n",
              "      <td>12.42</td>\n",
              "      <td>1</td>\n",
              "      <td>0.45</td>\n",
              "      <td>3</td>\n",
              "      <td>0</td>\n",
              "      <td>0</td>\n",
              "      <td>1</td>\n",
              "      <td>1</td>\n",
              "      <td>0</td>\n",
              "      <td>0</td>\n",
              "      <td>0</td>\n",
              "      <td>0</td>\n",
              "      <td>1</td>\n",
              "      <td>0</td>\n",
              "      <td>0</td>\n",
              "      <td>0</td>\n",
              "      <td>0</td>\n",
              "      <td>0</td>\n",
              "      <td>0</td>\n",
              "    </tr>\n",
              "    <tr>\n",
              "      <th>7</th>\n",
              "      <td>24</td>\n",
              "      <td>78956</td>\n",
              "      <td>5.0</td>\n",
              "      <td>35000</td>\n",
              "      <td>11.11</td>\n",
              "      <td>1</td>\n",
              "      <td>0.44</td>\n",
              "      <td>4</td>\n",
              "      <td>0</td>\n",
              "      <td>0</td>\n",
              "      <td>1</td>\n",
              "      <td>0</td>\n",
              "      <td>0</td>\n",
              "      <td>1</td>\n",
              "      <td>0</td>\n",
              "      <td>0</td>\n",
              "      <td>1</td>\n",
              "      <td>0</td>\n",
              "      <td>0</td>\n",
              "      <td>0</td>\n",
              "      <td>0</td>\n",
              "      <td>0</td>\n",
              "      <td>0</td>\n",
              "    </tr>\n",
              "    <tr>\n",
              "      <th>8</th>\n",
              "      <td>24</td>\n",
              "      <td>83000</td>\n",
              "      <td>8.0</td>\n",
              "      <td>35000</td>\n",
              "      <td>8.90</td>\n",
              "      <td>1</td>\n",
              "      <td>0.42</td>\n",
              "      <td>2</td>\n",
              "      <td>0</td>\n",
              "      <td>0</td>\n",
              "      <td>1</td>\n",
              "      <td>0</td>\n",
              "      <td>0</td>\n",
              "      <td>0</td>\n",
              "      <td>1</td>\n",
              "      <td>0</td>\n",
              "      <td>0</td>\n",
              "      <td>0</td>\n",
              "      <td>0</td>\n",
              "      <td>0</td>\n",
              "      <td>0</td>\n",
              "      <td>0</td>\n",
              "      <td>0</td>\n",
              "    </tr>\n",
              "    <tr>\n",
              "      <th>9</th>\n",
              "      <td>21</td>\n",
              "      <td>10000</td>\n",
              "      <td>6.0</td>\n",
              "      <td>1600</td>\n",
              "      <td>14.74</td>\n",
              "      <td>1</td>\n",
              "      <td>0.16</td>\n",
              "      <td>3</td>\n",
              "      <td>0</td>\n",
              "      <td>1</td>\n",
              "      <td>0</td>\n",
              "      <td>0</td>\n",
              "      <td>0</td>\n",
              "      <td>0</td>\n",
              "      <td>0</td>\n",
              "      <td>1</td>\n",
              "      <td>0</td>\n",
              "      <td>0</td>\n",
              "      <td>1</td>\n",
              "      <td>0</td>\n",
              "      <td>0</td>\n",
              "      <td>0</td>\n",
              "      <td>0</td>\n",
              "    </tr>\n",
              "    <tr>\n",
              "      <th>10</th>\n",
              "      <td>22</td>\n",
              "      <td>85000</td>\n",
              "      <td>6.0</td>\n",
              "      <td>35000</td>\n",
              "      <td>10.37</td>\n",
              "      <td>1</td>\n",
              "      <td>0.41</td>\n",
              "      <td>4</td>\n",
              "      <td>0</td>\n",
              "      <td>0</td>\n",
              "      <td>1</td>\n",
              "      <td>0</td>\n",
              "      <td>0</td>\n",
              "      <td>0</td>\n",
              "      <td>0</td>\n",
              "      <td>1</td>\n",
              "      <td>1</td>\n",
              "      <td>0</td>\n",
              "      <td>0</td>\n",
              "      <td>0</td>\n",
              "      <td>0</td>\n",
              "      <td>0</td>\n",
              "      <td>0</td>\n",
              "    </tr>\n",
              "  </tbody>\n",
              "</table>\n",
              "</div>"
            ],
            "text/plain": [
              "    person_age  person_income  ...  loan_grade_G  cb_person_default_on_file_Y\n",
              "1           21           9600  ...             0                            0\n",
              "2           25           9600  ...             0                            0\n",
              "3           23          65500  ...             0                            0\n",
              "4           24          54400  ...             0                            1\n",
              "5           21           9900  ...             0                            0\n",
              "6           26          77100  ...             0                            0\n",
              "7           24          78956  ...             0                            0\n",
              "8           24          83000  ...             0                            0\n",
              "9           21          10000  ...             0                            0\n",
              "10          22          85000  ...             0                            0\n",
              "\n",
              "[10 rows x 23 columns]"
            ]
          },
          "metadata": {
            "tags": []
          },
          "execution_count": 202
        }
      ]
    },
    {
      "cell_type": "code",
      "metadata": {
        "colab": {
          "base_uri": "https://localhost:8080/"
        },
        "id": "uQRoj18iFBZ2",
        "outputId": "d0784761-946e-43f5-ce76-4e690ec16469"
      },
      "source": [
        "print(cr_loan_final.columns)"
      ],
      "execution_count": 203,
      "outputs": [
        {
          "output_type": "stream",
          "text": [
            "Index(['person_age', 'person_income', 'person_emp_length', 'loan_amnt',\n",
            "       'loan_int_rate', 'loan_status', 'loan_percent_income',\n",
            "       'cb_person_cred_hist_length', 'person_home_ownership_OTHER',\n",
            "       'person_home_ownership_OWN', 'person_home_ownership_RENT',\n",
            "       'loan_intent_EDUCATION', 'loan_intent_HOMEIMPROVEMENT',\n",
            "       'loan_intent_MEDICAL', 'loan_intent_PERSONAL', 'loan_intent_VENTURE',\n",
            "       'loan_grade_B', 'loan_grade_C', 'loan_grade_D', 'loan_grade_E',\n",
            "       'loan_grade_F', 'loan_grade_G', 'cb_person_default_on_file_Y'],\n",
            "      dtype='object')\n"
          ],
          "name": "stdout"
        }
      ]
    },
    {
      "cell_type": "code",
      "metadata": {
        "colab": {
          "base_uri": "https://localhost:8080/"
        },
        "id": "EmGpCY6KFA8q",
        "outputId": "69421a01-47ab-46af-a495-5050e1e82214"
      },
      "source": [
        "cr_loan_final.shape"
      ],
      "execution_count": 204,
      "outputs": [
        {
          "output_type": "execute_result",
          "data": {
            "text/plain": [
              "(29459, 23)"
            ]
          },
          "metadata": {
            "tags": []
          },
          "execution_count": 204
        }
      ]
    },
    {
      "cell_type": "markdown",
      "metadata": {
        "id": "f4fHTOhzHNW0"
      },
      "source": [
        "***Now data is prepared completely for machine learning models***"
      ]
    },
    {
      "cell_type": "markdown",
      "metadata": {
        "id": "-T8TT6DOHnKk"
      },
      "source": [
        "# ***Machine Learning Models and Statistical Analysis***"
      ]
    },
    {
      "cell_type": "markdown",
      "metadata": {
        "id": "8ZW3EHhYRbaj"
      },
      "source": [
        "### ***Logistic Regression***"
      ]
    },
    {
      "cell_type": "code",
      "metadata": {
        "id": "GzHRe_shRyOB"
      },
      "source": [
        "from sklearn.linear_model import LogisticRegression"
      ],
      "execution_count": 205,
      "outputs": []
    },
    {
      "cell_type": "markdown",
      "metadata": {
        "id": "hvJTk4oaILYG"
      },
      "source": [
        "**Prediction using single column-**"
      ]
    },
    {
      "cell_type": "code",
      "metadata": {
        "id": "Jl6BHEXCQYxl"
      },
      "source": [
        "X=cr_loan_final[['loan_int_rate']]\r\n",
        "y=cr_loan_final[['loan_status']]"
      ],
      "execution_count": 206,
      "outputs": []
    },
    {
      "cell_type": "code",
      "metadata": {
        "id": "O3yyaOZQRwKP"
      },
      "source": [
        "clf_log_sin=LogisticRegression()"
      ],
      "execution_count": 207,
      "outputs": []
    },
    {
      "cell_type": "code",
      "metadata": {
        "colab": {
          "base_uri": "https://localhost:8080/"
        },
        "id": "uBAyP_ewSApZ",
        "outputId": "c6ab2b81-1824-49ac-c48d-d446b1f2ed23"
      },
      "source": [
        "clf_log_sin.fit(X,np.ravel(y))"
      ],
      "execution_count": 208,
      "outputs": [
        {
          "output_type": "execute_result",
          "data": {
            "text/plain": [
              "LogisticRegression(C=1.0, class_weight=None, dual=False, fit_intercept=True,\n",
              "                   intercept_scaling=1, l1_ratio=None, max_iter=100,\n",
              "                   multi_class='auto', n_jobs=None, penalty='l2',\n",
              "                   random_state=None, solver='lbfgs', tol=0.0001, verbose=0,\n",
              "                   warm_start=False)"
            ]
          },
          "metadata": {
            "tags": []
          },
          "execution_count": 208
        }
      ]
    },
    {
      "cell_type": "code",
      "metadata": {
        "colab": {
          "base_uri": "https://localhost:8080/"
        },
        "id": "vN1Li_RHSJOg",
        "outputId": "732d12a7-9ce1-45b0-eb08-a5e1fbed2322"
      },
      "source": [
        "clf_log_sin.get_params()"
      ],
      "execution_count": 209,
      "outputs": [
        {
          "output_type": "execute_result",
          "data": {
            "text/plain": [
              "{'C': 1.0,\n",
              " 'class_weight': None,\n",
              " 'dual': False,\n",
              " 'fit_intercept': True,\n",
              " 'intercept_scaling': 1,\n",
              " 'l1_ratio': None,\n",
              " 'max_iter': 100,\n",
              " 'multi_class': 'auto',\n",
              " 'n_jobs': None,\n",
              " 'penalty': 'l2',\n",
              " 'random_state': None,\n",
              " 'solver': 'lbfgs',\n",
              " 'tol': 0.0001,\n",
              " 'verbose': 0,\n",
              " 'warm_start': False}"
            ]
          },
          "metadata": {
            "tags": []
          },
          "execution_count": 209
        }
      ]
    },
    {
      "cell_type": "code",
      "metadata": {
        "colab": {
          "base_uri": "https://localhost:8080/"
        },
        "id": "2a1jzKMoSPqi",
        "outputId": "d64553c6-268c-49c5-ddb9-f038e6812bf4"
      },
      "source": [
        "clf_log_sin.intercept_"
      ],
      "execution_count": 210,
      "outputs": [
        {
          "output_type": "execute_result",
          "data": {
            "text/plain": [
              "array([-4.45785901])"
            ]
          },
          "metadata": {
            "tags": []
          },
          "execution_count": 210
        }
      ]
    },
    {
      "cell_type": "markdown",
      "metadata": {
        "id": "x5eAjlBrIUbZ"
      },
      "source": [
        "**Prediction using multiple columns (2 columns)-**"
      ]
    },
    {
      "cell_type": "code",
      "metadata": {
        "id": "OT-Q7mAVSWae"
      },
      "source": [
        "X_multi=cr_loan_final[['loan_int_rate','person_emp_length']]"
      ],
      "execution_count": 211,
      "outputs": []
    },
    {
      "cell_type": "code",
      "metadata": {
        "id": "9nF7FFxTSyPa"
      },
      "source": [
        "clf_log_mul=LogisticRegression()"
      ],
      "execution_count": 212,
      "outputs": []
    },
    {
      "cell_type": "code",
      "metadata": {
        "colab": {
          "base_uri": "https://localhost:8080/"
        },
        "id": "cgErKu3iS4Jh",
        "outputId": "4114e55b-4e9f-4467-85fe-5d6a10c30cdb"
      },
      "source": [
        "clf_log_mul.fit(X_multi,np.ravel(y))"
      ],
      "execution_count": 213,
      "outputs": [
        {
          "output_type": "execute_result",
          "data": {
            "text/plain": [
              "LogisticRegression(C=1.0, class_weight=None, dual=False, fit_intercept=True,\n",
              "                   intercept_scaling=1, l1_ratio=None, max_iter=100,\n",
              "                   multi_class='auto', n_jobs=None, penalty='l2',\n",
              "                   random_state=None, solver='lbfgs', tol=0.0001, verbose=0,\n",
              "                   warm_start=False)"
            ]
          },
          "metadata": {
            "tags": []
          },
          "execution_count": 213
        }
      ]
    },
    {
      "cell_type": "code",
      "metadata": {
        "colab": {
          "base_uri": "https://localhost:8080/"
        },
        "id": "okpEcPhlS-He",
        "outputId": "651c46bc-4730-4854-8ec3-1acd984ab7cd"
      },
      "source": [
        "print(clf_log_mul.intercept_)"
      ],
      "execution_count": 214,
      "outputs": [
        {
          "output_type": "stream",
          "text": [
            "[-4.21645549]\n"
          ],
          "name": "stdout"
        }
      ]
    },
    {
      "cell_type": "markdown",
      "metadata": {
        "id": "x9Nxtg-NJTWL"
      },
      "source": [
        "***Prediction with train and test split. It is important for predicting using machine learning models to split the data with better performance***\r\n",
        "***\r\n",
        "**Using multiple columns (3 columns)-**"
      ]
    },
    {
      "cell_type": "code",
      "metadata": {
        "id": "svJ0MIEoTDM6"
      },
      "source": [
        "X=cr_loan_final[['loan_int_rate','person_emp_length','person_income']]"
      ],
      "execution_count": 215,
      "outputs": []
    },
    {
      "cell_type": "code",
      "metadata": {
        "id": "TEtWaHFkTf6_"
      },
      "source": [
        "from sklearn.model_selection import train_test_split"
      ],
      "execution_count": 216,
      "outputs": []
    },
    {
      "cell_type": "code",
      "metadata": {
        "id": "2lsDXM19TlnP"
      },
      "source": [
        "X_train,X_test,y_train,y_test=train_test_split(X,y,test_size=0.20,random_state=123)"
      ],
      "execution_count": 217,
      "outputs": []
    },
    {
      "cell_type": "code",
      "metadata": {
        "id": "hN0ZaxCRTz24"
      },
      "source": [
        "clf_log=LogisticRegression().fit(X_train,np.ravel(y_train))"
      ],
      "execution_count": 218,
      "outputs": []
    },
    {
      "cell_type": "code",
      "metadata": {
        "colab": {
          "base_uri": "https://localhost:8080/"
        },
        "id": "BuMgCloVUBc6",
        "outputId": "76933bdd-e020-4da9-b729-e7eef81f906b"
      },
      "source": [
        "clf_log.coef_"
      ],
      "execution_count": 219,
      "outputs": [
        {
          "output_type": "execute_result",
          "data": {
            "text/plain": [
              "array([[ 1.44104352e-09, -2.23737544e-09, -2.16469161e-05]])"
            ]
          },
          "metadata": {
            "tags": []
          },
          "execution_count": 219
        }
      ]
    },
    {
      "cell_type": "markdown",
      "metadata": {
        "id": "-snTFhSIKqtA"
      },
      "source": [
        "### ***Observing the feature importance using the change of co-effiecient (coef_)***"
      ]
    },
    {
      "cell_type": "markdown",
      "metadata": {
        "id": "nG5sPOOxLAUE"
      },
      "source": [
        "**Training with 2 models using different set of columns-**"
      ]
    },
    {
      "cell_type": "code",
      "metadata": {
        "id": "AEuSr3AqUEOl"
      },
      "source": [
        "X1=cr_loan_final[['person_income','person_emp_length','loan_amnt']]"
      ],
      "execution_count": 220,
      "outputs": []
    },
    {
      "cell_type": "code",
      "metadata": {
        "id": "v__o7wztU9LP"
      },
      "source": [
        "X2=cr_loan_final[['person_income','loan_percent_income','cb_person_cred_hist_length']]"
      ],
      "execution_count": 221,
      "outputs": []
    },
    {
      "cell_type": "code",
      "metadata": {
        "id": "H4BuDzigVIJt"
      },
      "source": [
        "X1_train,X1_test,y_train,y_test=train_test_split(X1,y,test_size=0.20,random_state=123)"
      ],
      "execution_count": 222,
      "outputs": []
    },
    {
      "cell_type": "code",
      "metadata": {
        "id": "3wzLilFIVaxX"
      },
      "source": [
        "X2_train,X2_test,y_train,y_test=train_test_split(X2,y,test_size=0.20,random_state=123)"
      ],
      "execution_count": 223,
      "outputs": []
    },
    {
      "cell_type": "code",
      "metadata": {
        "id": "VnA9svbOVksR"
      },
      "source": [
        "clf_log1=LogisticRegression().fit(X1_train,np.ravel(y_train))"
      ],
      "execution_count": 224,
      "outputs": []
    },
    {
      "cell_type": "code",
      "metadata": {
        "id": "QsnvB7j8VukP"
      },
      "source": [
        "clf_log2=LogisticRegression().fit(X2_train,np.ravel(y_train))"
      ],
      "execution_count": 225,
      "outputs": []
    },
    {
      "cell_type": "code",
      "metadata": {
        "colab": {
          "base_uri": "https://localhost:8080/"
        },
        "id": "KUIjKBomV25l",
        "outputId": "9c0245bb-7ff0-4d04-f12b-2f06805abce3"
      },
      "source": [
        "print(clf_log1.coef_)"
      ],
      "execution_count": 226,
      "outputs": [
        {
          "output_type": "stream",
          "text": [
            "[[-4.00533136e-05 -2.96310749e-08  1.05942840e-04]]\n"
          ],
          "name": "stdout"
        }
      ]
    },
    {
      "cell_type": "code",
      "metadata": {
        "colab": {
          "base_uri": "https://localhost:8080/"
        },
        "id": "NZm-39iIV7ua",
        "outputId": "80e9d326-8d17-4707-b152-768ad4ec1b67"
      },
      "source": [
        "print(clf_log2.coef_)"
      ],
      "execution_count": 227,
      "outputs": [
        {
          "output_type": "stream",
          "text": [
            "[[-2.16470797e-05  5.35800230e-10 -2.55131791e-09]]\n"
          ],
          "name": "stdout"
        }
      ]
    },
    {
      "cell_type": "markdown",
      "metadata": {
        "id": "FTvAe6u6Lesw"
      },
      "source": [
        "***The co-efficients are changed for two logistic regression models using different set of columns.This tells you how important each column, or feature, was for predicting.***"
      ]
    },
    {
      "cell_type": "markdown",
      "metadata": {
        "id": "90fV_pJLMEjI"
      },
      "source": [
        "### ***Training with all the features***"
      ]
    },
    {
      "cell_type": "code",
      "metadata": {
        "id": "A1MpevE5XJ14"
      },
      "source": [
        "X_final=cr_loan_final.drop('loan_status',axis=1)\r\n",
        "y_final=cr_loan_final[['loan_status']]"
      ],
      "execution_count": 228,
      "outputs": []
    },
    {
      "cell_type": "code",
      "metadata": {
        "id": "1WzSyZH1Xu5u"
      },
      "source": [
        "X_train_final,X_test_final,y_train_final,y_test_final=train_test_split(X_final,y_final,test_size=0.20,random_state=123)"
      ],
      "execution_count": 229,
      "outputs": []
    },
    {
      "cell_type": "code",
      "metadata": {
        "id": "tVl9chs2X8ii"
      },
      "source": [
        "clf_log_final=LogisticRegression().fit(X_train_final,np.ravel(y_train_final))"
      ],
      "execution_count": 230,
      "outputs": []
    },
    {
      "cell_type": "code",
      "metadata": {
        "id": "W_EGpu3uYSpb"
      },
      "source": [
        "preds_log=clf_log_final.predict_proba(X_test_final)"
      ],
      "execution_count": 231,
      "outputs": []
    },
    {
      "cell_type": "code",
      "metadata": {
        "id": "Pb2bEzYTYZPp"
      },
      "source": [
        "preds_log_df=pd.DataFrame(preds_log[:,1][0:5],columns=['prob_default'])\r\n",
        "true_df=y_test_final.head()"
      ],
      "execution_count": 232,
      "outputs": []
    },
    {
      "cell_type": "code",
      "metadata": {
        "colab": {
          "base_uri": "https://localhost:8080/",
          "height": 204
        },
        "id": "X0AA9kO1Y6_k",
        "outputId": "50a6f6c0-09b0-4ac4-f533-6b44d5347a8f"
      },
      "source": [
        "pd.concat([true_df.reset_index(drop=True),preds_log_df],axis=1)"
      ],
      "execution_count": 233,
      "outputs": [
        {
          "output_type": "execute_result",
          "data": {
            "text/html": [
              "<div>\n",
              "<style scoped>\n",
              "    .dataframe tbody tr th:only-of-type {\n",
              "        vertical-align: middle;\n",
              "    }\n",
              "\n",
              "    .dataframe tbody tr th {\n",
              "        vertical-align: top;\n",
              "    }\n",
              "\n",
              "    .dataframe thead th {\n",
              "        text-align: right;\n",
              "    }\n",
              "</style>\n",
              "<table border=\"1\" class=\"dataframe\">\n",
              "  <thead>\n",
              "    <tr style=\"text-align: right;\">\n",
              "      <th></th>\n",
              "      <th>loan_status</th>\n",
              "      <th>prob_default</th>\n",
              "    </tr>\n",
              "  </thead>\n",
              "  <tbody>\n",
              "    <tr>\n",
              "      <th>0</th>\n",
              "      <td>1</td>\n",
              "      <td>0.446886</td>\n",
              "    </tr>\n",
              "    <tr>\n",
              "      <th>1</th>\n",
              "      <td>1</td>\n",
              "      <td>0.225016</td>\n",
              "    </tr>\n",
              "    <tr>\n",
              "      <th>2</th>\n",
              "      <td>0</td>\n",
              "      <td>0.290218</td>\n",
              "    </tr>\n",
              "    <tr>\n",
              "      <th>3</th>\n",
              "      <td>0</td>\n",
              "      <td>0.170874</td>\n",
              "    </tr>\n",
              "    <tr>\n",
              "      <th>4</th>\n",
              "      <td>1</td>\n",
              "      <td>0.115341</td>\n",
              "    </tr>\n",
              "  </tbody>\n",
              "</table>\n",
              "</div>"
            ],
            "text/plain": [
              "   loan_status  prob_default\n",
              "0            1      0.446886\n",
              "1            1      0.225016\n",
              "2            0      0.290218\n",
              "3            0      0.170874\n",
              "4            1      0.115341"
            ]
          },
          "metadata": {
            "tags": []
          },
          "execution_count": 233
        }
      ]
    },
    {
      "cell_type": "markdown",
      "metadata": {
        "id": "M7uT1NVbMxfT"
      },
      "source": [
        "***It looks like most of the rows with loan_status at 1 have a low probability of default***"
      ]
    },
    {
      "cell_type": "markdown",
      "metadata": {
        "id": "GoI6N9hXZYmd"
      },
      "source": [
        "### ***Logistic Regression Model Performance-***"
      ]
    },
    {
      "cell_type": "code",
      "metadata": {
        "id": "X2Aj_0FIZNhY"
      },
      "source": [
        "preds_df_log=pd.DataFrame(preds_log[:,1],columns=['prob_default'])"
      ],
      "execution_count": 234,
      "outputs": []
    },
    {
      "cell_type": "code",
      "metadata": {
        "id": "gR-BFaMJZzl7"
      },
      "source": [
        "preds_df_log['loan_status']=preds_df_log['prob_default'].apply(lambda x: 1 if x>0.50 else 0)"
      ],
      "execution_count": 235,
      "outputs": []
    },
    {
      "cell_type": "code",
      "metadata": {
        "colab": {
          "base_uri": "https://localhost:8080/"
        },
        "id": "mss8IYegaRXd",
        "outputId": "7e4c24a4-c4a3-45d6-efea-f49ece993bc9"
      },
      "source": [
        "print(preds_df_log['loan_status'].value_counts())"
      ],
      "execution_count": 236,
      "outputs": [
        {
          "output_type": "stream",
          "text": [
            "0    5574\n",
            "1     318\n",
            "Name: loan_status, dtype: int64\n"
          ],
          "name": "stdout"
        }
      ]
    },
    {
      "cell_type": "markdown",
      "metadata": {
        "id": "fsZTGEU_NYJG"
      },
      "source": [
        "***Most of the values are predicted as non-default***"
      ]
    },
    {
      "cell_type": "code",
      "metadata": {
        "id": "WHGSB_ZsabB_"
      },
      "source": [
        "from sklearn.metrics import classification_report,accuracy_score,confusion_matrix,precision_recall_fscore_support"
      ],
      "execution_count": 237,
      "outputs": []
    },
    {
      "cell_type": "code",
      "metadata": {
        "colab": {
          "base_uri": "https://localhost:8080/"
        },
        "id": "xC-IMNUQarCp",
        "outputId": "f562e291-7f25-4e09-d46e-15152ff5e4d1"
      },
      "source": [
        "target_names=['Non-Default','Default']\r\n",
        "print(classification_report(y_test_final,preds_df_log['loan_status'],target_names=target_names))"
      ],
      "execution_count": 238,
      "outputs": [
        {
          "output_type": "stream",
          "text": [
            "              precision    recall  f1-score   support\n",
            "\n",
            " Non-Default       0.82      0.98      0.89      4631\n",
            "     Default       0.72      0.18      0.29      1261\n",
            "\n",
            "    accuracy                           0.81      5892\n",
            "   macro avg       0.77      0.58      0.59      5892\n",
            "weighted avg       0.80      0.81      0.76      5892\n",
            "\n"
          ],
          "name": "stdout"
        }
      ]
    },
    {
      "cell_type": "markdown",
      "metadata": {
        "id": "_MFKh9MJNuid"
      },
      "source": [
        "***It looks like almost all of our test set was predicted to be non-default. The recall for defaults is 0.18 which means 18% of our true defaults were predicted correctly.***"
      ]
    },
    {
      "cell_type": "markdown",
      "metadata": {
        "id": "WAltofvEOTDZ"
      },
      "source": [
        "**Report Metrics-**"
      ]
    },
    {
      "cell_type": "code",
      "metadata": {
        "colab": {
          "base_uri": "https://localhost:8080/"
        },
        "id": "IFQRfjCza_oo",
        "outputId": "e1431266-38ed-4b39-f9e6-e68a5f6aa96d"
      },
      "source": [
        "print(precision_recall_fscore_support(y_test_final,preds_df_log['loan_status']))"
      ],
      "execution_count": 239,
      "outputs": [
        {
          "output_type": "stream",
          "text": [
            "(array([0.81503409, 0.72327044]), array([0.98099762, 0.18239492]), array([0.89034787, 0.29132362]), array([4631, 1261]))\n"
          ],
          "name": "stdout"
        }
      ]
    },
    {
      "cell_type": "markdown",
      "metadata": {
        "id": "TUYTR6csP-mW"
      },
      "source": [
        "***The values are stored precisin, recall and f1-score, respectively creating a pair with non-default and default. These values can use for later calculation***"
      ]
    },
    {
      "cell_type": "markdown",
      "metadata": {
        "id": "mA8NYznEQxCy"
      },
      "source": [
        "**Receiver Operating Characteristic (ROC) curve for the false positive rate (fall-out), and the true positive rate (sensitivity) and Area Under the ROC Curve(AUC) score-**"
      ]
    },
    {
      "cell_type": "code",
      "metadata": {
        "id": "n6ZdybCfbg3L"
      },
      "source": [
        "from sklearn.metrics import roc_auc_score,roc_curve"
      ],
      "execution_count": 240,
      "outputs": []
    },
    {
      "cell_type": "code",
      "metadata": {
        "colab": {
          "base_uri": "https://localhost:8080/"
        },
        "id": "GWwZSJ_JcKeh",
        "outputId": "2cb56d7e-8c92-4e9d-eb40-f6939ce004e4"
      },
      "source": [
        "clf_log_final.score(X_test_final,y_test_final)"
      ],
      "execution_count": 241,
      "outputs": [
        {
          "output_type": "execute_result",
          "data": {
            "text/plain": [
              "0.810081466395112"
            ]
          },
          "metadata": {
            "tags": []
          },
          "execution_count": 241
        }
      ]
    },
    {
      "cell_type": "code",
      "metadata": {
        "id": "1F7I5j9lcfvB"
      },
      "source": [
        "prob_default=preds_log[:,1]"
      ],
      "execution_count": 242,
      "outputs": []
    },
    {
      "cell_type": "code",
      "metadata": {
        "colab": {
          "base_uri": "https://localhost:8080/",
          "height": 295
        },
        "id": "2l350wmLcz3r",
        "outputId": "fe144e5d-1c1b-41ce-ecac-5534ab54c55e"
      },
      "source": [
        "fallout,sensitivity,thresholds=roc_curve(y_test_final,prob_default)\r\n",
        "plt.plot(fallout,sensitivity,color='darkorange')\r\n",
        "plt.plot([0,1],[0,1],linestyle='--')\r\n",
        "plt.xlabel(\"False Positive Rate\")\r\n",
        "plt.ylabel(\"True Positive Rate\")\r\n",
        "plt.title(\"ROC Chart- Probability of Default\")\r\n",
        "plt.show()"
      ],
      "execution_count": 243,
      "outputs": [
        {
          "output_type": "display_data",
          "data": {
            "image/png": "[encoded data removed]",
            "text/plain": [
              "<Figure size 432x288 with 1 Axes>"
            ]
          },
          "metadata": {
            "tags": [],
            "needs_background": "light"
          }
        }
      ]
    },
    {
      "cell_type": "code",
      "metadata": {
        "id": "MqQYXo2OdeQg",
        "colab": {
          "base_uri": "https://localhost:8080/"
        },
        "outputId": "28848c0d-b915-4975-8faa-b587e590d23c"
      },
      "source": [
        "print(roc_auc_score(y_test_final,prob_default))"
      ],
      "execution_count": 244,
      "outputs": [
        {
          "output_type": "stream",
          "text": [
            "0.767804323893165\n"
          ],
          "name": "stdout"
        }
      ]
    },
    {
      "cell_type": "markdown",
      "metadata": {
        "id": "nLQPJIxaStxe"
      },
      "source": [
        "**So the accuracy for this model is about 81% and the AUC score is 77%**"
      ]
    },
    {
      "cell_type": "markdown",
      "metadata": {
        "id": "IPHq2UdlTPxc"
      },
      "source": [
        "### ***Threshold***\r\n",
        "\r\n",
        "It means at what point a probability is default"
      ]
    },
    {
      "cell_type": "code",
      "metadata": {
        "colab": {
          "base_uri": "https://localhost:8080/"
        },
        "id": "XUqXWVaNdqh8",
        "outputId": "b9b8a043-c453-4e6a-c976-ec13333df245"
      },
      "source": [
        "preds_df_log['loan_status']=preds_df_log['prob_default'].apply(lambda x: 1 if x>0.50 else 0)\r\n",
        "confusion_matrix(y_test_final,preds_df_log['loan_status'])"
      ],
      "execution_count": 245,
      "outputs": [
        {
          "output_type": "execute_result",
          "data": {
            "text/plain": [
              "array([[4543,   88],\n",
              "       [1031,  230]])"
            ]
          },
          "metadata": {
            "tags": []
          },
          "execution_count": 245
        }
      ]
    },
    {
      "cell_type": "code",
      "metadata": {
        "colab": {
          "base_uri": "https://localhost:8080/"
        },
        "id": "GDD67IG8eiLH",
        "outputId": "b04d9b26-0a67-4a29-9867-7606b3582fac"
      },
      "source": [
        "preds_df_log['loan_status']=preds_df_log['prob_default'].apply(lambda x: 1 if x>0.40 else 0)\r\n",
        "confusion_matrix(y_test_final,preds_df_log['loan_status'])"
      ],
      "execution_count": 246,
      "outputs": [
        {
          "output_type": "execute_result",
          "data": {
            "text/plain": [
              "array([[4252,  379],\n",
              "       [ 662,  599]])"
            ]
          },
          "metadata": {
            "tags": []
          },
          "execution_count": 246
        }
      ]
    },
    {
      "cell_type": "markdown",
      "metadata": {
        "id": "rZO-ujfCT8Mu"
      },
      "source": [
        "***Threshold at 0.40 gives the highest value for default recall***"
      ]
    },
    {
      "cell_type": "markdown",
      "metadata": {
        "id": "nzSxypu-UWsL"
      },
      "source": [
        "### ***Calculating Loss with Logistic Regression Model***"
      ]
    },
    {
      "cell_type": "code",
      "metadata": {
        "id": "ejyxgQToerZ7"
      },
      "source": [
        "preds_df_log['loan_status']=preds_df_log['prob_default'].apply(lambda x: 1 if x>0.40 else 0)"
      ],
      "execution_count": 247,
      "outputs": []
    },
    {
      "cell_type": "code",
      "metadata": {
        "id": "aA9prmOpe-Nt"
      },
      "source": [
        "num_defaults=preds_df_log['loan_status'].value_counts()[1]"
      ],
      "execution_count": 248,
      "outputs": []
    },
    {
      "cell_type": "code",
      "metadata": {
        "id": "8mOakThSfUfn"
      },
      "source": [
        "default_recall=precision_recall_fscore_support(y_test_final,preds_df_log['loan_status'])[1][1]"
      ],
      "execution_count": 249,
      "outputs": []
    },
    {
      "cell_type": "code",
      "metadata": {
        "colab": {
          "base_uri": "https://localhost:8080/"
        },
        "id": "wzyiiAbbfmpL",
        "outputId": "9ed29ded-27f7-49f4-d73a-71b27c2b7be8"
      },
      "source": [
        "print(\"\\nLoss (in $):\\n\")\r\n",
        "print(cr_loan_final['loan_amnt'].mean() * num_defaults * (1 - default_recall))"
      ],
      "execution_count": 250,
      "outputs": [
        {
          "output_type": "stream",
          "text": [
            "\n",
            "Loss (in $):\n",
            "\n",
            "4920514.08103075\n"
          ],
          "name": "stdout"
        }
      ]
    },
    {
      "cell_type": "markdown",
      "metadata": {
        "id": "x12Y_97_WUBF"
      },
      "source": [
        "***This loss would be around $4.9M USD. This seems too large amount of loss. So let's move on another model.............***"
      ]
    },
    {
      "cell_type": "markdown",
      "metadata": {
        "id": "tDPQttetDdXr"
      },
      "source": [
        "### ***eXtreme Gradient Boosting(XGBoost)***"
      ]
    },
    {
      "cell_type": "code",
      "metadata": {
        "id": "nGvEN5Q-rf8_"
      },
      "source": [
        "from xgboost import XGBClassifier"
      ],
      "execution_count": 251,
      "outputs": []
    },
    {
      "cell_type": "code",
      "metadata": {
        "id": "OIYXBsBKEDBT"
      },
      "source": [
        "clf_gbt=XGBClassifier().fit(X_train_final,np.ravel(y_train_final))"
      ],
      "execution_count": 252,
      "outputs": []
    },
    {
      "cell_type": "code",
      "metadata": {
        "id": "cp7F6sLjEG9w"
      },
      "source": [
        "gbt_preds=clf_gbt.predict_proba(X_test_final)"
      ],
      "execution_count": 253,
      "outputs": []
    },
    {
      "cell_type": "code",
      "metadata": {
        "id": "iDTNRQPoEZnM"
      },
      "source": [
        "preds_df=pd.DataFrame(gbt_preds[:,1][0:5],columns=['prob_default'])"
      ],
      "execution_count": 254,
      "outputs": []
    },
    {
      "cell_type": "code",
      "metadata": {
        "id": "WRUZtCPIEoOd"
      },
      "source": [
        "true_df=y_test_final.head()"
      ],
      "execution_count": 255,
      "outputs": []
    },
    {
      "cell_type": "code",
      "metadata": {
        "colab": {
          "base_uri": "https://localhost:8080/",
          "height": 204
        },
        "id": "yw9oJBomEvP5",
        "outputId": "0923d3f7-a2bc-4c1d-8dab-9d4bf4b54ced"
      },
      "source": [
        "pd.concat([true_df.reset_index(drop=True),preds_df],axis=1)"
      ],
      "execution_count": 256,
      "outputs": [
        {
          "output_type": "execute_result",
          "data": {
            "text/html": [
              "<div>\n",
              "<style scoped>\n",
              "    .dataframe tbody tr th:only-of-type {\n",
              "        vertical-align: middle;\n",
              "    }\n",
              "\n",
              "    .dataframe tbody tr th {\n",
              "        vertical-align: top;\n",
              "    }\n",
              "\n",
              "    .dataframe thead th {\n",
              "        text-align: right;\n",
              "    }\n",
              "</style>\n",
              "<table border=\"1\" class=\"dataframe\">\n",
              "  <thead>\n",
              "    <tr style=\"text-align: right;\">\n",
              "      <th></th>\n",
              "      <th>loan_status</th>\n",
              "      <th>prob_default</th>\n",
              "    </tr>\n",
              "  </thead>\n",
              "  <tbody>\n",
              "    <tr>\n",
              "      <th>0</th>\n",
              "      <td>1</td>\n",
              "      <td>0.958741</td>\n",
              "    </tr>\n",
              "    <tr>\n",
              "      <th>1</th>\n",
              "      <td>1</td>\n",
              "      <td>0.651767</td>\n",
              "    </tr>\n",
              "    <tr>\n",
              "      <th>2</th>\n",
              "      <td>0</td>\n",
              "      <td>0.016084</td>\n",
              "    </tr>\n",
              "    <tr>\n",
              "      <th>3</th>\n",
              "      <td>0</td>\n",
              "      <td>0.013628</td>\n",
              "    </tr>\n",
              "    <tr>\n",
              "      <th>4</th>\n",
              "      <td>1</td>\n",
              "      <td>0.082786</td>\n",
              "    </tr>\n",
              "  </tbody>\n",
              "</table>\n",
              "</div>"
            ],
            "text/plain": [
              "   loan_status  prob_default\n",
              "0            1      0.958741\n",
              "1            1      0.651767\n",
              "2            0      0.016084\n",
              "3            0      0.013628\n",
              "4            1      0.082786"
            ]
          },
          "metadata": {
            "tags": []
          },
          "execution_count": 256
        }
      ]
    },
    {
      "cell_type": "markdown",
      "metadata": {
        "id": "IcHE4zByXTaO"
      },
      "source": [
        "***This model seems accurately predicting the probability of default for some loans with a true value of 1 in loan_status.***"
      ]
    },
    {
      "cell_type": "code",
      "metadata": {
        "id": "fafhSDbvIX2T"
      },
      "source": [
        "gbt_pred=clf_gbt.predict(X_test_final)"
      ],
      "execution_count": 257,
      "outputs": []
    },
    {
      "cell_type": "code",
      "metadata": {
        "colab": {
          "base_uri": "https://localhost:8080/"
        },
        "id": "VqXavaqGJqBp",
        "outputId": "6e959ec8-eeb5-4d94-ec3f-2cd800eaf3ba"
      },
      "source": [
        "print(gbt_pred)"
      ],
      "execution_count": 258,
      "outputs": [
        {
          "output_type": "stream",
          "text": [
            "[1 1 0 ... 0 0 0]\n"
          ],
          "name": "stdout"
        }
      ]
    },
    {
      "cell_type": "code",
      "metadata": {
        "colab": {
          "base_uri": "https://localhost:8080/"
        },
        "id": "3MxkJLkeJtWG",
        "outputId": "b6764a45-a5c4-43e1-c2a1-9c1909d465df"
      },
      "source": [
        "target_names=['Non-Default','Default']\r\n",
        "print(classification_report(y_test_final,gbt_pred,target_names=target_names))"
      ],
      "execution_count": 259,
      "outputs": [
        {
          "output_type": "stream",
          "text": [
            "              precision    recall  f1-score   support\n",
            "\n",
            " Non-Default       0.92      0.98      0.95      4631\n",
            "     Default       0.91      0.68      0.78      1261\n",
            "\n",
            "    accuracy                           0.92      5892\n",
            "   macro avg       0.91      0.83      0.86      5892\n",
            "weighted avg       0.92      0.92      0.91      5892\n",
            "\n"
          ],
          "name": "stdout"
        }
      ]
    },
    {
      "cell_type": "markdown",
      "metadata": {
        "id": "Ru4uzS51YIm7"
      },
      "source": [
        "***The precision, recall scores are much better than logistic regression model.***\r\n",
        "\r\n",
        "**Note:** predict_proba() produces a value between 0 and 1, and predict() produces a value 1 or 0 but performance is same for both method"
      ]
    },
    {
      "cell_type": "markdown",
      "metadata": {
        "id": "bElAXsGYZK7o"
      },
      "source": [
        "### ***Feature Importance with get_booster() and get_score()***"
      ]
    },
    {
      "cell_type": "code",
      "metadata": {
        "colab": {
          "base_uri": "https://localhost:8080/"
        },
        "id": "FaL_-x-JJ-YI",
        "outputId": "b8091f62-58ab-4458-a275-eeb8b57e9c87"
      },
      "source": [
        "clf_gbt.get_booster().get_score(importance_type='weight')"
      ],
      "execution_count": 260,
      "outputs": [
        {
          "output_type": "execute_result",
          "data": {
            "text/plain": [
              "{'cb_person_cred_hist_length': 1,\n",
              " 'loan_amnt': 7,\n",
              " 'loan_grade_B': 3,\n",
              " 'loan_grade_C': 23,\n",
              " 'loan_grade_D': 31,\n",
              " 'loan_grade_E': 17,\n",
              " 'loan_grade_F': 5,\n",
              " 'loan_grade_G': 16,\n",
              " 'loan_int_rate': 115,\n",
              " 'loan_intent_EDUCATION': 21,\n",
              " 'loan_intent_HOMEIMPROVEMENT': 21,\n",
              " 'loan_intent_MEDICAL': 13,\n",
              " 'loan_intent_PERSONAL': 12,\n",
              " 'loan_intent_VENTURE': 29,\n",
              " 'loan_percent_income': 65,\n",
              " 'person_age': 7,\n",
              " 'person_emp_length': 25,\n",
              " 'person_home_ownership_OTHER': 4,\n",
              " 'person_home_ownership_OWN': 40,\n",
              " 'person_home_ownership_RENT': 55,\n",
              " 'person_income': 128}"
            ]
          },
          "metadata": {
            "tags": []
          },
          "execution_count": 260
        }
      ]
    },
    {
      "cell_type": "code",
      "metadata": {
        "id": "oU6ZNzG0KnsA"
      },
      "source": [
        "import xgboost as xgb"
      ],
      "execution_count": 261,
      "outputs": []
    },
    {
      "cell_type": "code",
      "metadata": {
        "colab": {
          "base_uri": "https://localhost:8080/",
          "height": 295
        },
        "id": "FyDtYn8_K9G0",
        "outputId": "436399ac-b0c7-4cb4-9986-0a19409dcc2b"
      },
      "source": [
        "xgb.plot_importance(clf_gbt,importance_type='weight')\r\n",
        "plt.show()"
      ],
      "execution_count": 262,
      "outputs": [
        {
          "output_type": "display_data",
          "data": {
            "image/png": "[encoded data removed]",
            "text/plain": [
              "<Figure size 432x288 with 1 Axes>"
            ]
          },
          "metadata": {
            "tags": [],
            "needs_background": "light"
          }
        }
      ]
    },
    {
      "cell_type": "markdown",
      "metadata": {
        "id": "CF2d8Gh7ZxWx"
      },
      "source": [
        "***Persons income is the most important columns. Further columns are loan interest rate, loan percentage income,respectively and so on.***"
      ]
    },
    {
      "cell_type": "markdown",
      "metadata": {
        "id": "dyOZcRdqLtIP"
      },
      "source": [
        "### ***Cross Validation***\r\n",
        "\r\n",
        "Cross-validation is a technique that is used for the assessment of how the results of statistical analysis generalize to an independent data set. This results in a loss of testing and modeling capability. Cross-validation is also known as rotation estimation.\r\n"
      ]
    },
    {
      "cell_type": "markdown",
      "metadata": {
        "id": "rnxMYLFYbEuv"
      },
      "source": [
        "**Using DMatrix which is an ineternal data structure of XGBoost and it is optimized for both memory efficiency and training speed-**"
      ]
    },
    {
      "cell_type": "code",
      "metadata": {
        "id": "tXuSLlztLH2F"
      },
      "source": [
        "n_folds=10\r\n",
        "early_stopping=20"
      ],
      "execution_count": 263,
      "outputs": []
    },
    {
      "cell_type": "markdown",
      "metadata": {
        "id": "F72mEawdbxoB"
      },
      "source": [
        "**Here-**\r\n",
        "\r\n",
        "1.   n_folds is the number of folds which means that `(n/100)*100` percentage(%) of the data is used for testing randomly in per iteration.\r\n",
        "2.   Early stopping tells cross validation to stop after a scoring metric has not improved after a number of iterations.\r\n",
        "\r\n"
      ]
    },
    {
      "cell_type": "code",
      "metadata": {
        "id": "iyXnTmqqMGRg"
      },
      "source": [
        "DTrain=xgb.DMatrix(X_train_final,label=y_train_final)"
      ],
      "execution_count": 264,
      "outputs": []
    },
    {
      "cell_type": "code",
      "metadata": {
        "id": "i8zxQfAjMQaF"
      },
      "source": [
        "params={\r\n",
        "    'objective': 'binary:logistic',\r\n",
        "    'seed': 123,\r\n",
        "    'eval_metric': 'auc'\r\n",
        "}"
      ],
      "execution_count": 265,
      "outputs": []
    },
    {
      "cell_type": "code",
      "metadata": {
        "id": "-e-IKI2fMiCs"
      },
      "source": [
        "cv_df=xgb.cv(params=params,dtrain=DTrain,num_boost_round=50,nfold=n_folds,early_stopping_rounds=early_stopping)"
      ],
      "execution_count": 266,
      "outputs": []
    },
    {
      "cell_type": "code",
      "metadata": {
        "colab": {
          "base_uri": "https://localhost:8080/"
        },
        "id": "kniVBR0jM2VP",
        "outputId": "2d3dee4f-03e2-4c16-88ef-794dad98611c"
      },
      "source": [
        "print(cv_df)"
      ],
      "execution_count": 267,
      "outputs": [
        {
          "output_type": "stream",
          "text": [
            "    train-auc-mean  train-auc-std  test-auc-mean  test-auc-std\n",
            "0         0.897650       0.001295       0.891877      0.007559\n",
            "1         0.905218       0.003196       0.899858      0.008196\n",
            "2         0.912627       0.002182       0.907729      0.007632\n",
            "3         0.918768       0.001400       0.912226      0.007653\n",
            "4         0.921777       0.001092       0.914850      0.007394\n",
            "5         0.925657       0.001822       0.917486      0.007248\n",
            "6         0.929170       0.001271       0.920986      0.007087\n",
            "7         0.931453       0.001188       0.922938      0.006592\n",
            "8         0.933913       0.001287       0.924865      0.006614\n",
            "9         0.935590       0.001220       0.926324      0.006205\n",
            "10        0.937595       0.000788       0.927389      0.006388\n",
            "11        0.939323       0.000689       0.928343      0.006337\n",
            "12        0.941540       0.000836       0.929645      0.006396\n",
            "13        0.943430       0.000757       0.930988      0.006417\n",
            "14        0.944871       0.001263       0.931746      0.005744\n",
            "15        0.945832       0.001291       0.932272      0.005674\n",
            "16        0.947237       0.001207       0.932912      0.005263\n",
            "17        0.949085       0.001331       0.934285      0.005250\n",
            "18        0.950495       0.001198       0.935088      0.005205\n",
            "19        0.952677       0.001380       0.936597      0.004555\n",
            "20        0.953775       0.001666       0.937216      0.004423\n",
            "21        0.954931       0.001316       0.937441      0.004697\n",
            "22        0.956350       0.001037       0.937873      0.004593\n",
            "23        0.957220       0.001378       0.938138      0.004474\n",
            "24        0.958676       0.001525       0.938620      0.004259\n",
            "25        0.959548       0.001226       0.938949      0.004520\n",
            "26        0.960959       0.000975       0.939204      0.004572\n",
            "27        0.961929       0.001164       0.939585      0.004674\n",
            "28        0.962990       0.001506       0.940356      0.003971\n",
            "29        0.963588       0.001550       0.940395      0.003929\n",
            "30        0.964744       0.001383       0.940897      0.004225\n",
            "31        0.965604       0.001687       0.941343      0.004358\n",
            "32        0.966111       0.001821       0.941377      0.004585\n",
            "33        0.966947       0.001711       0.941580      0.004978\n",
            "34        0.968020       0.001263       0.941877      0.004772\n",
            "35        0.969025       0.001093       0.942361      0.004924\n",
            "36        0.970198       0.001354       0.942993      0.005027\n",
            "37        0.970811       0.001253       0.943184      0.004793\n",
            "38        0.971715       0.001205       0.943330      0.005052\n",
            "39        0.972500       0.000910       0.943584      0.005268\n",
            "40        0.973259       0.000998       0.943896      0.005080\n",
            "41        0.973811       0.001042       0.944003      0.004974\n",
            "42        0.974285       0.001078       0.944073      0.004877\n",
            "43        0.974779       0.000992       0.944321      0.004899\n",
            "44        0.975242       0.000891       0.944532      0.004857\n",
            "45        0.975851       0.000713       0.944625      0.004877\n",
            "46        0.976284       0.000824       0.944914      0.004722\n",
            "47        0.976694       0.000854       0.945004      0.004745\n",
            "48        0.977306       0.000815       0.945059      0.004940\n",
            "49        0.977826       0.000885       0.945244      0.005023\n"
          ],
          "name": "stdout"
        }
      ]
    },
    {
      "cell_type": "markdown",
      "metadata": {
        "id": "yNjBiCGqdxM0"
      },
      "source": [
        "***The AUC for both train-auc-mean and test-auc-mean improves at each iteration of cross-validation.***"
      ]
    },
    {
      "cell_type": "code",
      "metadata": {
        "colab": {
          "base_uri": "https://localhost:8080/"
        },
        "id": "hLNhzVpuM8Y3",
        "outputId": "9c386eab-966e-4ee0-ff6d-5200ce2e5868"
      },
      "source": [
        "print(np.mean(cv_df['train-auc-mean']))"
      ],
      "execution_count": 268,
      "outputs": [
        {
          "output_type": "stream",
          "text": [
            "0.95389774\n"
          ],
          "name": "stdout"
        }
      ]
    },
    {
      "cell_type": "code",
      "metadata": {
        "colab": {
          "base_uri": "https://localhost:8080/"
        },
        "id": "oLEJg_zENu1u",
        "outputId": "ba4e3d3f-187b-4042-bce3-2419639326cb"
      },
      "source": [
        "print(np.mean(cv_df['test-auc-mean']))"
      ],
      "execution_count": 269,
      "outputs": [
        {
          "output_type": "stream",
          "text": [
            "0.934287552\n"
          ],
          "name": "stdout"
        }
      ]
    },
    {
      "cell_type": "code",
      "metadata": {
        "colab": {
          "base_uri": "https://localhost:8080/",
          "height": 279
        },
        "id": "mdcF8Wo8N7W6",
        "outputId": "decb7fd5-3832-441d-fe7f-aa017c648a2f"
      },
      "source": [
        "plt.plot(cv_df['train-auc-mean'])\r\n",
        "plt.plot(cv_df['test-auc-mean'])\r\n",
        "plt.xlabel(\"Iteration Number\")\r\n",
        "plt.legend([\"Train AUC Score\",\"Test AUC Score\"])\r\n",
        "plt.show()"
      ],
      "execution_count": 270,
      "outputs": [
        {
          "output_type": "display_data",
          "data": {
            "image/png": "[encoded data removed]",
            "text/plain": [
              "<Figure size 432x288 with 1 Axes>"
            ]
          },
          "metadata": {
            "tags": [],
            "needs_background": "light"
          }
        }
      ]
    },
    {
      "cell_type": "markdown",
      "metadata": {
        "id": "MWLSJjUVecmE"
      },
      "source": [
        "***Both train and test auc scores are perfect for the XGBoost model***"
      ]
    },
    {
      "cell_type": "markdown",
      "metadata": {
        "id": "AN9S3YXnfCX_"
      },
      "source": [
        "**Using Cross-validation scoring to check the overall performance and also with hyperparameters of XGBoost Classifier-**"
      ]
    },
    {
      "cell_type": "code",
      "metadata": {
        "id": "p3hD3FjIOirT"
      },
      "source": [
        "from sklearn.model_selection import cross_val_score"
      ],
      "execution_count": 271,
      "outputs": []
    },
    {
      "cell_type": "code",
      "metadata": {
        "id": "GBpGSyjHO9za"
      },
      "source": [
        "xbt=XGBClassifier(max_depth=5,learning_rate=0.1)"
      ],
      "execution_count": 272,
      "outputs": []
    },
    {
      "cell_type": "code",
      "metadata": {
        "id": "lMKRFSaIPGmH"
      },
      "source": [
        "cv_score=cross_val_score(xbt,X_train_final,np.ravel(y_train_final),cv=10)"
      ],
      "execution_count": 273,
      "outputs": []
    },
    {
      "cell_type": "code",
      "metadata": {
        "colab": {
          "base_uri": "https://localhost:8080/"
        },
        "id": "fNjEbB4xPUYq",
        "outputId": "e153caab-39ff-46e8-a89a-43b221dd3351"
      },
      "source": [
        "print(cv_score)"
      ],
      "execution_count": 274,
      "outputs": [
        {
          "output_type": "stream",
          "text": [
            "[0.93890539 0.92872295 0.93848112 0.93805685 0.93848112 0.9321171\n",
            " 0.93423844 0.93081494 0.9295416  0.92359932]\n"
          ],
          "name": "stdout"
        }
      ]
    },
    {
      "cell_type": "code",
      "metadata": {
        "colab": {
          "base_uri": "https://localhost:8080/"
        },
        "id": "xyUcMIw6PjxS",
        "outputId": "55a0c90c-851c-4921-fb53-37c5c687fb5b"
      },
      "source": [
        "print(\"Average Accuracy: %0.2f\" % (cv_score.mean()))"
      ],
      "execution_count": 275,
      "outputs": [
        {
          "output_type": "stream",
          "text": [
            "Average Accuracy: 0.93\n"
          ],
          "name": "stdout"
        }
      ]
    },
    {
      "cell_type": "markdown",
      "metadata": {
        "id": "B1bENPcdfsM-"
      },
      "source": [
        "***With the hyperparameters and cross-validation, we can get the average accuracy up to 93%. This shows XGBoost model performs much better than Logistic Regression model***"
      ]
    },
    {
      "cell_type": "markdown",
      "metadata": {
        "id": "hq-I2-QjQasa"
      },
      "source": [
        "### ***Class Imbalance***\r\n",
        "\r\n",
        "An imbalanced classification problem is an example of a classification problem where the distribution of examples across the known classes is biased or skewed. Imbalanced classification is the problem of classification when there is an unequal distribution of classes in the training dataset"
      ]
    },
    {
      "cell_type": "code",
      "metadata": {
        "colab": {
          "base_uri": "https://localhost:8080/"
        },
        "id": "wlDAeStQPyoP",
        "outputId": "daeb0ed8-0676-4a9d-fa2e-8ca468c8255c"
      },
      "source": [
        "y_train_final['loan_status'].value_counts()"
      ],
      "execution_count": 276,
      "outputs": [
        {
          "output_type": "execute_result",
          "data": {
            "text/plain": [
              "0    18365\n",
              "1     5202\n",
              "Name: loan_status, dtype: int64"
            ]
          },
          "metadata": {
            "tags": []
          },
          "execution_count": 276
        }
      ]
    },
    {
      "cell_type": "markdown",
      "metadata": {
        "id": "k1GSuqDDg8XY"
      },
      "source": [
        "***The difference between non-default(0) and default(1) is enough large in training data. An inaccurately predicted default has more negative financial impact***"
      ]
    },
    {
      "cell_type": "markdown",
      "metadata": {
        "id": "YAy4Eg4LhgYB"
      },
      "source": [
        "**Undersampling Strategy-**\r\n",
        "\r\n",
        "Combine smaller random sample of non-defaults with defaults."
      ]
    },
    {
      "cell_type": "code",
      "metadata": {
        "id": "V0GgQAGdQSkK"
      },
      "source": [
        "X_y_train=pd.concat([X_train_final.reset_index(drop=True),y_train_final.reset_index(drop=True)],axis=1)"
      ],
      "execution_count": 277,
      "outputs": []
    },
    {
      "cell_type": "code",
      "metadata": {
        "id": "au-rS8pcQ_pv"
      },
      "source": [
        "count_nondefault,count_default=X_y_train['loan_status'].value_counts()"
      ],
      "execution_count": 278,
      "outputs": []
    },
    {
      "cell_type": "code",
      "metadata": {
        "id": "gC3RB0SIROOS"
      },
      "source": [
        "nondefault=X_y_train[X_y_train['loan_status'] == 0]\r\n",
        "default=X_y_train[X_y_train['loan_status'] == 1]"
      ],
      "execution_count": 279,
      "outputs": []
    },
    {
      "cell_type": "code",
      "metadata": {
        "id": "eodeXersRfoU"
      },
      "source": [
        "nondefault_under=nondefault.sample(count_default)"
      ],
      "execution_count": 280,
      "outputs": []
    },
    {
      "cell_type": "code",
      "metadata": {
        "id": "r2CcivdlRqsc"
      },
      "source": [
        "X_y_train_under=pd.concat([nondefault_under.reset_index(drop=True),default.reset_index(drop=True)],axis=0)"
      ],
      "execution_count": 281,
      "outputs": []
    },
    {
      "cell_type": "code",
      "metadata": {
        "colab": {
          "base_uri": "https://localhost:8080/"
        },
        "id": "OijsTcixSDEG",
        "outputId": "bf5f690d-490f-4797-8379-c7af40fbae69"
      },
      "source": [
        "X_y_train_under['loan_status'].value_counts()"
      ],
      "execution_count": 282,
      "outputs": [
        {
          "output_type": "execute_result",
          "data": {
            "text/plain": [
              "1    5202\n",
              "0    5202\n",
              "Name: loan_status, dtype: int64"
            ]
          },
          "metadata": {
            "tags": []
          },
          "execution_count": 282
        }
      ]
    },
    {
      "cell_type": "markdown",
      "metadata": {
        "id": "bUsu7MwGiNM8"
      },
      "source": [
        "***Our training set has an even number of defaults and non-default***"
      ]
    },
    {
      "cell_type": "code",
      "metadata": {
        "colab": {
          "base_uri": "https://localhost:8080/"
        },
        "id": "X9Q0F2eRSH7Q",
        "outputId": "ea0db5b0-7d6d-40ee-a3d2-a5bc1494cdc8"
      },
      "source": [
        "X_y_train_under.columns"
      ],
      "execution_count": 283,
      "outputs": [
        {
          "output_type": "execute_result",
          "data": {
            "text/plain": [
              "Index(['person_age', 'person_income', 'person_emp_length', 'loan_amnt',\n",
              "       'loan_int_rate', 'loan_percent_income', 'cb_person_cred_hist_length',\n",
              "       'person_home_ownership_OTHER', 'person_home_ownership_OWN',\n",
              "       'person_home_ownership_RENT', 'loan_intent_EDUCATION',\n",
              "       'loan_intent_HOMEIMPROVEMENT', 'loan_intent_MEDICAL',\n",
              "       'loan_intent_PERSONAL', 'loan_intent_VENTURE', 'loan_grade_B',\n",
              "       'loan_grade_C', 'loan_grade_D', 'loan_grade_E', 'loan_grade_F',\n",
              "       'loan_grade_G', 'cb_person_default_on_file_Y', 'loan_status'],\n",
              "      dtype='object')"
            ]
          },
          "metadata": {
            "tags": []
          },
          "execution_count": 283
        }
      ]
    },
    {
      "cell_type": "code",
      "metadata": {
        "colab": {
          "base_uri": "https://localhost:8080/"
        },
        "id": "1wEO1tpRSmeJ",
        "outputId": "b4090024-be68-43e2-dbc1-aa7ad8a52496"
      },
      "source": [
        "X_y_train_under.shape"
      ],
      "execution_count": 284,
      "outputs": [
        {
          "output_type": "execute_result",
          "data": {
            "text/plain": [
              "(10404, 23)"
            ]
          },
          "metadata": {
            "tags": []
          },
          "execution_count": 284
        }
      ]
    },
    {
      "cell_type": "code",
      "metadata": {
        "id": "Hr4e63ZDWl7K"
      },
      "source": [
        "X_train_under=X_y_train_under.drop('loan_status',axis=1)\r\n",
        "y_train_under=X_y_train_under[['loan_status']]"
      ],
      "execution_count": 285,
      "outputs": []
    },
    {
      "cell_type": "code",
      "metadata": {
        "id": "CPUj007ZTeG9"
      },
      "source": [
        "clf_gbt_under=XGBClassifier().fit(X_train_under,np.ravel(y_train_under))"
      ],
      "execution_count": 286,
      "outputs": []
    },
    {
      "cell_type": "code",
      "metadata": {
        "id": "gS3lf3SdT3I0"
      },
      "source": [
        "gbt_preds_under=clf_gbt_under.predict(X_test_final)"
      ],
      "execution_count": 287,
      "outputs": []
    },
    {
      "cell_type": "code",
      "metadata": {
        "colab": {
          "base_uri": "https://localhost:8080/"
        },
        "id": "Twxv6QZRULME",
        "outputId": "9f3faa32-343f-47a0-bfe5-f420c7d6a8d7"
      },
      "source": [
        "target_names=[\"Non-Default\",\"Default\"]\r\n",
        "print(classification_report(y_test_final,gbt_pred,target_names=target_names))\r\n",
        "print(classification_report(y_test_final,gbt_preds_under,target_names=target_names))"
      ],
      "execution_count": 288,
      "outputs": [
        {
          "output_type": "stream",
          "text": [
            "              precision    recall  f1-score   support\n",
            "\n",
            " Non-Default       0.92      0.98      0.95      4631\n",
            "     Default       0.91      0.68      0.78      1261\n",
            "\n",
            "    accuracy                           0.92      5892\n",
            "   macro avg       0.91      0.83      0.86      5892\n",
            "weighted avg       0.92      0.92      0.91      5892\n",
            "\n",
            "              precision    recall  f1-score   support\n",
            "\n",
            " Non-Default       0.93      0.91      0.92      4631\n",
            "     Default       0.71      0.76      0.74      1261\n",
            "\n",
            "    accuracy                           0.88      5892\n",
            "   macro avg       0.82      0.84      0.83      5892\n",
            "weighted avg       0.89      0.88      0.88      5892\n",
            "\n"
          ],
          "name": "stdout"
        }
      ]
    },
    {
      "cell_type": "code",
      "metadata": {
        "colab": {
          "base_uri": "https://localhost:8080/"
        },
        "id": "xa0-Llg9UsHA",
        "outputId": "7681fc48-1e55-4b15-ef00-3fec1df7410f"
      },
      "source": [
        "print(confusion_matrix(y_test_final,gbt_pred))\r\n",
        "print(confusion_matrix(y_test_final,gbt_preds_under))"
      ],
      "execution_count": 289,
      "outputs": [
        {
          "output_type": "stream",
          "text": [
            "[[4545   86]\n",
            " [ 402  859]]\n",
            "[[4237  394]\n",
            " [ 297  964]]\n"
          ],
          "name": "stdout"
        }
      ]
    },
    {
      "cell_type": "code",
      "metadata": {
        "colab": {
          "base_uri": "https://localhost:8080/"
        },
        "id": "95GkoLjKVhAi",
        "outputId": "98aef84d-6474-4484-f4df-d9108bf52e5d"
      },
      "source": [
        "print(roc_auc_score(y_test_final,gbt_pred))\r\n",
        "print(roc_auc_score(y_test_final,gbt_preds_under))"
      ],
      "execution_count": 290,
      "outputs": [
        {
          "output_type": "stream",
          "text": [
            "0.8313174447072628\n",
            "0.8396969120455174\n"
          ],
          "name": "stdout"
        }
      ]
    },
    {
      "cell_type": "markdown",
      "metadata": {
        "id": "3vrSgdy5iyvZ"
      },
      "source": [
        "***Undersampling the training data results in more false positives, but the recall for defaults and the AUC score are both higher than the original model. This means overall it predicts defaults much more accurately***"
      ]
    },
    {
      "cell_type": "markdown",
      "metadata": {
        "id": "sksobu5qjT0Y"
      },
      "source": [
        "**Note:** The test set represents the type of data that will be seen by the model in the real world,so we should not undersample the test set."
      ]
    },
    {
      "cell_type": "markdown",
      "metadata": {
        "id": "7I4EGr9skHuO"
      },
      "source": [
        "### ***Calculating Loss with eXtreme Gradient Boost(XGBoost) Model***"
      ]
    },
    {
      "cell_type": "code",
      "metadata": {
        "id": "qKPiK0oFjAhf"
      },
      "source": [
        "preds_df_gbt=pd.DataFrame(gbt_preds[:,1],columns=['prob_default'])"
      ],
      "execution_count": 291,
      "outputs": []
    },
    {
      "cell_type": "code",
      "metadata": {
        "id": "8BIHzD45jArO"
      },
      "source": [
        "preds_df_gbt['loan_status']=preds_df_gbt['prob_default'].apply(lambda x: 1 if x > 0.40 else 0)"
      ],
      "execution_count": 292,
      "outputs": []
    },
    {
      "cell_type": "code",
      "metadata": {
        "id": "9tRx2iYYeFag"
      },
      "source": [
        "num_defaults_gbt=preds_df_gbt['loan_status'].value_counts()[1]"
      ],
      "execution_count": 293,
      "outputs": []
    },
    {
      "cell_type": "code",
      "metadata": {
        "id": "WCzMPRkSeFeZ"
      },
      "source": [
        "default_recall_gbt=precision_recall_fscore_support(y_test_final,preds_df_gbt['loan_status'])[1][1]"
      ],
      "execution_count": 294,
      "outputs": []
    },
    {
      "cell_type": "code",
      "metadata": {
        "colab": {
          "base_uri": "https://localhost:8080/"
        },
        "id": "5i_t7_7GeFiz",
        "outputId": "77d64aac-184b-49a0-b3c5-ee9a5686e3a1"
      },
      "source": [
        "print(\"\\nLoss (in $):\\n\")\r\n",
        "print(cr_loan_final['loan_amnt'].mean() * num_defaults_gbt * (1 - default_recall_gbt))"
      ],
      "execution_count": 295,
      "outputs": [
        {
          "output_type": "stream",
          "text": [
            "\n",
            "Loss (in $):\n",
            "\n",
            "2921569.4856134\n"
          ],
          "name": "stdout"
        }
      ]
    },
    {
      "cell_type": "markdown",
      "metadata": {
        "id": "JmJxzD7wuViQ"
      },
      "source": [
        "***The loss would be around $2.9M USD, it's not too much***"
      ]
    },
    {
      "cell_type": "markdown",
      "metadata": {
        "id": "FmD42oYAXvsk"
      },
      "source": [
        "# ***Model Evaluation***\r\n",
        "\r\n",
        "Logistic Regression Model vs eXtreme Gradient Boosting(XGBoost) Model"
      ]
    },
    {
      "cell_type": "markdown",
      "metadata": {
        "id": "XkZ8cIP3lG35"
      },
      "source": [
        "### **Comparing classification report-**"
      ]
    },
    {
      "cell_type": "code",
      "metadata": {
        "colab": {
          "base_uri": "https://localhost:8080/"
        },
        "id": "i6Boce1HXhod",
        "outputId": "abf5b919-b89e-46bb-a694-4b113f331ab9"
      },
      "source": [
        "target_names=['Non-Default','Default']\r\n",
        "preds_df_log['loan_status']=preds_df_log['prob_default'].apply(lambda x: 1 if x>0.40 else 0)\r\n",
        "print(classification_report(y_test_final,preds_df_log['loan_status'],target_names=target_names))\r\n",
        "print(classification_report(y_test_final,preds_df_gbt['loan_status'],target_names=target_names))"
      ],
      "execution_count": 296,
      "outputs": [
        {
          "output_type": "stream",
          "text": [
            "              precision    recall  f1-score   support\n",
            "\n",
            " Non-Default       0.87      0.92      0.89      4631\n",
            "     Default       0.61      0.48      0.54      1261\n",
            "\n",
            "    accuracy                           0.82      5892\n",
            "   macro avg       0.74      0.70      0.71      5892\n",
            "weighted avg       0.81      0.82      0.81      5892\n",
            "\n",
            "              precision    recall  f1-score   support\n",
            "\n",
            " Non-Default       0.92      0.97      0.94      4631\n",
            "     Default       0.85      0.71      0.77      1261\n",
            "\n",
            "    accuracy                           0.91      5892\n",
            "   macro avg       0.89      0.84      0.86      5892\n",
            "weighted avg       0.91      0.91      0.91      5892\n",
            "\n"
          ],
          "name": "stdout"
        }
      ]
    },
    {
      "cell_type": "code",
      "metadata": {
        "colab": {
          "base_uri": "https://localhost:8080/"
        },
        "id": "c01K-fSYl_0v",
        "outputId": "66418d98-9577-464d-c628-34fe7abc610c"
      },
      "source": [
        "print(precision_recall_fscore_support(y_test_final,preds_df_log['loan_status'],average='macro')[2])\r\n",
        "print(precision_recall_fscore_support(y_test_final,preds_df_gbt['loan_status'],average='macro')[2])"
      ],
      "execution_count": 297,
      "outputs": [
        {
          "output_type": "stream",
          "text": [
            "0.712998979236362\n",
            "0.8593851109103099\n"
          ],
          "name": "stdout"
        }
      ]
    },
    {
      "cell_type": "markdown",
      "metadata": {
        "id": "6RYky5eBl4j8"
      },
      "source": [
        "***The scores from the classification report are all higher for the gradient boosted tree***"
      ]
    },
    {
      "cell_type": "markdown",
      "metadata": {
        "id": "cNgExkyBmPCh"
      },
      "source": [
        "### ***ROC and AUC Analysis-***"
      ]
    },
    {
      "cell_type": "code",
      "metadata": {
        "id": "CkYGHy53mdLd"
      },
      "source": [
        "prob_default_log=preds_log[:,1]\r\n",
        "prob_default_gbt=gbt_preds[:,1]"
      ],
      "execution_count": 298,
      "outputs": []
    },
    {
      "cell_type": "code",
      "metadata": {
        "id": "bdMDeBmdm-wm"
      },
      "source": [
        "fallout_log,sensitivity_log,thresholds_log=roc_curve(y_test_final,prob_default_log)\r\n",
        "fallout_gbt,sensitivity_gbt,thresholds_gbt=roc_curve(y_test_final,prob_default_gbt)"
      ],
      "execution_count": 299,
      "outputs": []
    },
    {
      "cell_type": "code",
      "metadata": {
        "colab": {
          "base_uri": "https://localhost:8080/",
          "height": 295
        },
        "id": "F97WV1PzncR8",
        "outputId": "33301333-613e-4826-a4f2-097723aeb608"
      },
      "source": [
        "plt.plot(fallout_log,sensitivity_log,color='red',label='%s' % 'Logistic Regression')\r\n",
        "plt.plot(fallout_gbt,sensitivity_gbt,color='blue',label='%s' % 'eXtreme Gradient Boosted Tree')\r\n",
        "plt.plot([0,1],[0,1],linestyle='--',label='%s' % 'Random Prediction')\r\n",
        "plt.title(\"ROC Chart of Logistic Regression and XGBoost Tree on the Probability of Default\")\r\n",
        "plt.xlabel(\"Fall-out\")\r\n",
        "plt.ylabel(\"Sensitivity\")\r\n",
        "plt.legend()\r\n",
        "plt.show()"
      ],
      "execution_count": 300,
      "outputs": [
        {
          "output_type": "display_data",
          "data": {
            "image/png": "[encoded data removed]",
            "text/plain": [
              "<Figure size 432x288 with 1 Axes>"
            ]
          },
          "metadata": {
            "tags": [],
            "needs_background": "light"
          }
        }
      ]
    },
    {
      "cell_type": "code",
      "metadata": {
        "colab": {
          "base_uri": "https://localhost:8080/"
        },
        "id": "wCdquLw8pAug",
        "outputId": "35491357-0d27-4ca3-c22b-ac3d28c25651"
      },
      "source": [
        "print(\"Logistic Regression AUC Score: %0.2f\" % roc_auc_score(y_test_final,prob_default_log))\r\n",
        "print(\"eXtreme Gradient Boosted Tree AUC Score: %0.2f\" % roc_auc_score(y_test_final,prob_default_gbt))"
      ],
      "execution_count": 301,
      "outputs": [
        {
          "output_type": "stream",
          "text": [
            "Logistic Regression AUC Score: 0.77\n",
            "eXtreme Gradient Boosted Tree AUC Score: 0.93\n"
          ],
          "name": "stdout"
        }
      ]
    },
    {
      "cell_type": "markdown",
      "metadata": {
        "id": "t4QdUj87mzmQ"
      },
      "source": [
        "***The ROC curve for the gradient boosted tree is not only the lift much higher, the calculated AUC score is also higher***"
      ]
    },
    {
      "cell_type": "markdown",
      "metadata": {
        "id": "dRY5N-sHnK0K"
      },
      "source": [
        "### ***Calibration Analysis***"
      ]
    },
    {
      "cell_type": "code",
      "metadata": {
        "id": "ah_zl7I-qYB4"
      },
      "source": [
        "from sklearn.calibration import calibration_curve"
      ],
      "execution_count": 302,
      "outputs": []
    },
    {
      "cell_type": "code",
      "metadata": {
        "id": "1oSegUWtrlsN"
      },
      "source": [
        "mean_pred_value_log,frac_of_pos_log=calibration_curve(y_test_final,prob_default_log,n_bins=5)"
      ],
      "execution_count": 303,
      "outputs": []
    },
    {
      "cell_type": "code",
      "metadata": {
        "id": "-W2e6sIHr6ib"
      },
      "source": [
        "mean_pred_value_gbt,frac_of_pos_gbt=calibration_curve(y_test_final,prob_default_gbt,n_bins=5)"
      ],
      "execution_count": 304,
      "outputs": []
    },
    {
      "cell_type": "markdown",
      "metadata": {
        "id": "YSBcw8NWnYiF"
      },
      "source": [
        "**Plotting step by step-**\r\n",
        "\r\n",
        "Steps-\r\n",
        "1.   Plotting perfect calibration line\r\n",
        "2.   Plotting line for logistic regression\r\n",
        "3.   Plotting line for XGBoost\r\n",
        "\r\n",
        "\r\n",
        "\r\n"
      ]
    },
    {
      "cell_type": "code",
      "metadata": {
        "colab": {
          "base_uri": "https://localhost:8080/",
          "height": 295
        },
        "id": "h0eMVn-yse41",
        "outputId": "bed1d6e8-b525-4f6b-e5d9-47ee17675a0f"
      },
      "source": [
        "plt.plot([0,1],[0,1],'k:',label='Perfect Calibration')\r\n",
        "plt.xlabel(\"Average Predicted Probability\")\r\n",
        "plt.ylabel(\"Fraction of Positives\")\r\n",
        "plt.title(\"Calibration Curve\")\r\n",
        "plt.legend()\r\n",
        "plt.show()"
      ],
      "execution_count": 305,
      "outputs": [
        {
          "output_type": "display_data",
          "data": {
            "image/png": "[encoded data removed]",
            "text/plain": [
              "<Figure size 432x288 with 1 Axes>"
            ]
          },
          "metadata": {
            "tags": [],
            "needs_background": "light"
          }
        }
      ]
    },
    {
      "cell_type": "code",
      "metadata": {
        "colab": {
          "base_uri": "https://localhost:8080/",
          "height": 295
        },
        "id": "RgOqvYc9tKvu",
        "outputId": "8a31fe43-abe9-4540-8a6f-0d1665265655"
      },
      "source": [
        "plt.plot([0,1],[0,1],'k:',label='Perfect Calibration')\r\n",
        "plt.plot(mean_pred_value_log,frac_of_pos_log,'s-',label='%s' % 'Logistic Regression')\r\n",
        "plt.xlabel(\"Average Predicted Probability\")\r\n",
        "plt.ylabel(\"Fraction of Positives\")\r\n",
        "plt.title(\"Calibration Curve\")\r\n",
        "plt.legend()\r\n",
        "plt.show()"
      ],
      "execution_count": 306,
      "outputs": [
        {
          "output_type": "display_data",
          "data": {
            "image/png": "[encoded data removed]",
            "text/plain": [
              "<Figure size 432x288 with 1 Axes>"
            ]
          },
          "metadata": {
            "tags": [],
            "needs_background": "light"
          }
        }
      ]
    },
    {
      "cell_type": "code",
      "metadata": {
        "colab": {
          "base_uri": "https://localhost:8080/",
          "height": 295
        },
        "id": "sm5pDmY8tqhH",
        "outputId": "c066126f-09ed-45c5-915c-fe4e008f3b74"
      },
      "source": [
        "plt.plot([0,1],[0,1],'k:',label='Perfect Calibration')\r\n",
        "plt.plot(mean_pred_value_log,frac_of_pos_log,'s-',label='%s' % 'Logistic Regression')\r\n",
        "plt.plot(mean_pred_value_gbt,frac_of_pos_gbt,'s-',label='%s' % 'eXtreme Gradient Boosted Tree')\r\n",
        "plt.xlabel(\"Average Predicted Probability\")\r\n",
        "plt.ylabel(\"Fraction of Positives\")\r\n",
        "plt.title(\"Calibration Curve\")\r\n",
        "plt.legend()\r\n",
        "plt.show()"
      ],
      "execution_count": 307,
      "outputs": [
        {
          "output_type": "display_data",
          "data": {
            "image/png": "[encoded data removed]",
            "text/plain": [
              "<Figure size 432x288 with 1 Axes>"
            ]
          },
          "metadata": {
            "tags": [],
            "needs_background": "light"
          }
        }
      ]
    },
    {
      "cell_type": "markdown",
      "metadata": {
        "id": "L7BLBtB4oAOU"
      },
      "source": [
        "***For the logistic regression, the calibration for probabilities starts off great but then gets more erratic as it the average probability approaches around 0.5. Something similar happens to the extreme gradient boosted tree around 0.7, but the model eventually stabilizes.***"
      ]
    },
    {
      "cell_type": "markdown",
      "metadata": {
        "id": "f42VB6oWpQS4"
      },
      "source": [
        "### ***Comparing the Loss***"
      ]
    },
    {
      "cell_type": "markdown",
      "metadata": {
        "id": "izbUDljxvFKE"
      },
      "source": [
        "**Formula:**\r\n",
        "```\r\n",
        "loss = average loan amount * number of default prediction * default recall\r\n",
        "```\r\n",
        "\r\n"
      ]
    },
    {
      "cell_type": "code",
      "metadata": {
        "colab": {
          "base_uri": "https://localhost:8080/"
        },
        "id": "DIYzP36qfoCO",
        "outputId": "da960ec8-b18a-49c2-e655-7d7dc629f5e5"
      },
      "source": [
        "log_loss=cr_loan_final['loan_amnt'].mean() * num_defaults * (1 - default_recall)/1000000\r\n",
        "gbt_loss=cr_loan_final['loan_amnt'].mean() * num_defaults_gbt * (1 - default_recall_gbt)/1000000\r\n",
        "print(\"Loss:\\n\")\r\n",
        "print(\"Using Logistic Regression Model (in Million $): %0.2f\" % log_loss)\r\n",
        "print(\"Using XGBoost Model (in Million $): %0.2f\" % gbt_loss)\r\n",
        "difference=np.subtract(log_loss,gbt_loss).round(2)\r\n",
        "print(\"\\n\")\r\n",
        "print(\"Loss is Reduced by $\"+str(difference)+\"M USD Using XGBoost Model\")"
      ],
      "execution_count": 308,
      "outputs": [
        {
          "output_type": "stream",
          "text": [
            "Loss:\n",
            "\n",
            "Using Logistic Regression Model (in Million $): 4.92\n",
            "Using XGBoost Model (in Million $): 2.92\n",
            "\n",
            "\n",
            "Loss is Reduced by $2.0M USD Using XGBoost Model\n"
          ],
          "name": "stdout"
        }
      ]
    },
    {
      "cell_type": "code",
      "metadata": {
        "colab": {
          "base_uri": "https://localhost:8080/",
          "height": 279
        },
        "id": "wwv2Iy0VGKbD",
        "outputId": "e6352fb3-ed2d-4f67-da13-e150757eee4d"
      },
      "source": [
        "plt.hist(log_loss,color='red',label='Logistic Regression Model',bins=5)\r\n",
        "plt.hist(gbt_loss,color='green',label='XGBoost Model',bins=5)\r\n",
        "plt.xlabel(\"<------------------------Loss in Million ($) Range--------------------->\")\r\n",
        "plt.legend()\r\n",
        "plt.show()"
      ],
      "execution_count": 309,
      "outputs": [
        {
          "output_type": "display_data",
          "data": {
            "image/png": "[encoded data removed]",
            "text/plain": [
              "<Figure size 432x288 with 1 Axes>"
            ]
          },
          "metadata": {
            "tags": [],
            "needs_background": "light"
          }
        }
      ]
    },
    {
      "cell_type": "markdown",
      "metadata": {
        "id": "4fcYSNsipcTN"
      },
      "source": [
        "***From the above calculation, unexpected Loss is Reduced by $2.0M USD Using XGBoost Model.***"
      ]
    },
    {
      "cell_type": "markdown",
      "metadata": {
        "id": "xeiHZzZ9q0qJ"
      },
      "source": [
        "***We can see that, performance for eXtreme Gradient Boosted Model is higher than Logistic Regression Model in all aspects and it also reduces the loss which is very important for any business company to give a loan. So, we will be focusing on only the XGBoost model from now on for further analysis.***"
      ]
    },
    {
      "cell_type": "markdown",
      "metadata": {
        "id": "F1RdgMtnrOQI"
      },
      "source": [
        "# ***Final Analysis***"
      ]
    },
    {
      "cell_type": "markdown",
      "metadata": {
        "id": "027TO0f9unIl"
      },
      "source": [
        "### ***Credit Acceptance and Threshold***\r\n",
        "\r\n",
        "Using an acceptance rate and calculating the threshold for that rate, I can use to set the percentage rate of new loans I want to accept. \r\n",
        "***\r\n",
        "**Accepted rate:** the percentage of new loans are accepted to keep the number of defaults in low."
      ]
    },
    {
      "cell_type": "code",
      "metadata": {
        "id": "H1xJ-7kJt_Fx"
      },
      "source": [
        "preds_df_gbt=pd.DataFrame(gbt_preds[:,1],columns=['prob_default'])\r\n",
        "\r\n",
        "preds_df_gbt['loan_status']=preds_df_gbt['prob_default'].apply(lambda x: 1 if x > 0.40 else 0)"
      ],
      "execution_count": 310,
      "outputs": []
    },
    {
      "cell_type": "markdown",
      "metadata": {
        "id": "ipD-w9FrKoJw"
      },
      "source": [
        "**Previously I set a threshold for a range of probability of default values which was used to change the predicted loan status(non-default and default) of the loan.**"
      ]
    },
    {
      "cell_type": "code",
      "metadata": {
        "colab": {
          "base_uri": "https://localhost:8080/"
        },
        "id": "-jFvr3iWvVGY",
        "outputId": "2ba6b485-00e2-4039-a324-9ac0e009da20"
      },
      "source": [
        "preds_df_gbt['prob_default'].describe()"
      ],
      "execution_count": 311,
      "outputs": [
        {
          "output_type": "execute_result",
          "data": {
            "text/plain": [
              "count    5892.000000\n",
              "mean        0.214869\n",
              "std         0.294736\n",
              "min         0.000833\n",
              "25%         0.041317\n",
              "50%         0.082065\n",
              "75%         0.205257\n",
              "max         0.999702\n",
              "Name: prob_default, dtype: float64"
            ]
          },
          "metadata": {
            "tags": []
          },
          "execution_count": 311
        }
      ]
    },
    {
      "cell_type": "code",
      "metadata": {
        "id": "pAceo4xKvwrT"
      },
      "source": [
        "thresh_85=np.quantile(preds_df_gbt['prob_default'],0.85)"
      ],
      "execution_count": 312,
      "outputs": []
    },
    {
      "cell_type": "code",
      "metadata": {
        "colab": {
          "base_uri": "https://localhost:8080/"
        },
        "id": "NVU6p5HGJx5P",
        "outputId": "bb734fe3-6082-411f-ec16-fc5c34c84267"
      },
      "source": [
        "thresh_85"
      ],
      "execution_count": 313,
      "outputs": [
        {
          "output_type": "execute_result",
          "data": {
            "text/plain": [
              "0.5675462901592254"
            ]
          },
          "metadata": {
            "tags": []
          },
          "execution_count": 313
        }
      ]
    },
    {
      "cell_type": "markdown",
      "metadata": {
        "id": "CxKUrY9DJ4Va"
      },
      "source": [
        "***For accepting rate 85%, threshold rate is approximately 56%***"
      ]
    },
    {
      "cell_type": "markdown",
      "metadata": {
        "id": "oq6qVJ8NLHBo"
      },
      "source": [
        "**Now applyng the new threshold-**"
      ]
    },
    {
      "cell_type": "code",
      "metadata": {
        "id": "qANLFof9wIa_"
      },
      "source": [
        "preds_df_gbt['pred_loan_status']=preds_df_gbt['prob_default'].apply(lambda x: 1 if x > thresh_85 else 0)"
      ],
      "execution_count": 314,
      "outputs": []
    },
    {
      "cell_type": "code",
      "metadata": {
        "colab": {
          "base_uri": "https://localhost:8080/"
        },
        "id": "QS8NALfowYmV",
        "outputId": "40c3ad9d-a4bc-4bc6-caa0-882135e93718"
      },
      "source": [
        "print(preds_df_gbt['pred_loan_status'].value_counts())"
      ],
      "execution_count": 315,
      "outputs": [
        {
          "output_type": "stream",
          "text": [
            "0    5008\n",
            "1     884\n",
            "Name: pred_loan_status, dtype: int64\n"
          ],
          "name": "stdout"
        }
      ]
    },
    {
      "cell_type": "code",
      "metadata": {
        "colab": {
          "base_uri": "https://localhost:8080/",
          "height": 295
        },
        "id": "4UIuA8_SwiQ2",
        "outputId": "e85e6a02-34c2-45a9-8673-9080d5e82433"
      },
      "source": [
        "plt.hist(prob_default_gbt,color='blue',bins=40)\r\n",
        "threshold=np.quantile(prob_default_gbt,0.85)\r\n",
        "plt.axvline(x=threshold,color='red')\r\n",
        "plt.xlabel(\"Predicted Probability of Default\")\r\n",
        "plt.ylabel(\"Number of Loans\")\r\n",
        "plt.title(\"Histogram of Probability of Default\")\r\n",
        "plt.show()"
      ],
      "execution_count": 316,
      "outputs": [
        {
          "output_type": "display_data",
          "data": {
            "image/png": "[encoded data removed]",
            "text/plain": [
              "<Figure size 432x288 with 1 Axes>"
            ]
          },
          "metadata": {
            "tags": [],
            "needs_background": "light"
          }
        }
      ]
    },
    {
      "cell_type": "markdown",
      "metadata": {
        "id": "SOw7nyolMXFp"
      },
      "source": [
        "***In the left side of the red line indicates how many loans will be accepted.***\r\n",
        "***\r\n",
        "***In the right side of the red line indicates how many loans will be rejected.***\r\n",
        "\r\n",
        "\r\n",
        "\r\n"
      ]
    },
    {
      "cell_type": "markdown",
      "metadata": {
        "id": "wwf4NoCKzAHc"
      },
      "source": [
        "### ***Bad Rate***\r\n",
        "\r\n",
        "Within a calculated threshold, some loans will be defaults. The percentage of accounts that perform in an unsatisfactory manner as defined by the good/bad definition that was used in the scorecard development which means accounts with unacceptable repayment behaviour."
      ]
    },
    {
      "cell_type": "markdown",
      "metadata": {
        "id": "EhYu3DKcP3U9"
      },
      "source": [
        "**Formula:**\r\n",
        "```\r\n",
        "bad rate = accepted bad / total accepted\r\n",
        "```\r\n",
        "\r\n"
      ]
    },
    {
      "cell_type": "code",
      "metadata": {
        "colab": {
          "base_uri": "https://localhost:8080/",
          "height": 204
        },
        "id": "d9WwLBtqxb5G",
        "outputId": "bb4858a1-cf01-496d-f1c7-14f265316c96"
      },
      "source": [
        "preds_df_gbt.head()"
      ],
      "execution_count": 317,
      "outputs": [
        {
          "output_type": "execute_result",
          "data": {
            "text/html": [
              "<div>\n",
              "<style scoped>\n",
              "    .dataframe tbody tr th:only-of-type {\n",
              "        vertical-align: middle;\n",
              "    }\n",
              "\n",
              "    .dataframe tbody tr th {\n",
              "        vertical-align: top;\n",
              "    }\n",
              "\n",
              "    .dataframe thead th {\n",
              "        text-align: right;\n",
              "    }\n",
              "</style>\n",
              "<table border=\"1\" class=\"dataframe\">\n",
              "  <thead>\n",
              "    <tr style=\"text-align: right;\">\n",
              "      <th></th>\n",
              "      <th>prob_default</th>\n",
              "      <th>loan_status</th>\n",
              "      <th>pred_loan_status</th>\n",
              "    </tr>\n",
              "  </thead>\n",
              "  <tbody>\n",
              "    <tr>\n",
              "      <th>0</th>\n",
              "      <td>0.958741</td>\n",
              "      <td>1</td>\n",
              "      <td>1</td>\n",
              "    </tr>\n",
              "    <tr>\n",
              "      <th>1</th>\n",
              "      <td>0.651767</td>\n",
              "      <td>1</td>\n",
              "      <td>1</td>\n",
              "    </tr>\n",
              "    <tr>\n",
              "      <th>2</th>\n",
              "      <td>0.016084</td>\n",
              "      <td>0</td>\n",
              "      <td>0</td>\n",
              "    </tr>\n",
              "    <tr>\n",
              "      <th>3</th>\n",
              "      <td>0.013628</td>\n",
              "      <td>0</td>\n",
              "      <td>0</td>\n",
              "    </tr>\n",
              "    <tr>\n",
              "      <th>4</th>\n",
              "      <td>0.082786</td>\n",
              "      <td>0</td>\n",
              "      <td>0</td>\n",
              "    </tr>\n",
              "  </tbody>\n",
              "</table>\n",
              "</div>"
            ],
            "text/plain": [
              "   prob_default  loan_status  pred_loan_status\n",
              "0      0.958741            1                 1\n",
              "1      0.651767            1                 1\n",
              "2      0.016084            0                 0\n",
              "3      0.013628            0                 0\n",
              "4      0.082786            0                 0"
            ]
          },
          "metadata": {
            "tags": []
          },
          "execution_count": 317
        }
      ]
    },
    {
      "cell_type": "code",
      "metadata": {
        "id": "QGTVtQsZyG6x"
      },
      "source": [
        "accepted_loans=preds_df_gbt[preds_df_gbt['pred_loan_status'] == 0]"
      ],
      "execution_count": 318,
      "outputs": []
    },
    {
      "cell_type": "code",
      "metadata": {
        "colab": {
          "base_uri": "https://localhost:8080/"
        },
        "id": "xBdTki59yc1r",
        "outputId": "991fdffb-a197-4ac7-c4e0-e6bb4746616f"
      },
      "source": [
        "print(np.sum(accepted_loans['loan_status']) / accepted_loans['loan_status'].count())"
      ],
      "execution_count": 319,
      "outputs": [
        {
          "output_type": "stream",
          "text": [
            "0.03494408945686901\n"
          ],
          "name": "stdout"
        }
      ]
    },
    {
      "cell_type": "markdown",
      "metadata": {
        "id": "kGlVNlDaQsOI"
      },
      "source": [
        "***The bad rate is only 3% approximately. It is not too high.***"
      ]
    },
    {
      "cell_type": "markdown",
      "metadata": {
        "id": "C56vm6DBR0qu"
      },
      "source": [
        "### ***Credit Strategy***"
      ]
    },
    {
      "cell_type": "markdown",
      "metadata": {
        "id": "t72UnyyRSX_L"
      },
      "source": [
        "First acceptance rate was set to 85%, but other rates might be selected as well. **Strategy table** which contains all the possible acceptance rate I wish to look at along with their associated bad rates and threshold values."
      ]
    },
    {
      "cell_type": "code",
      "metadata": {
        "colab": {
          "base_uri": "https://localhost:8080/"
        },
        "id": "XsIfCGLw1KH9",
        "outputId": "69f80639-260a-4d3c-c760-cd1d8348187c"
      },
      "source": [
        "accepted_rate=[1.0, 0.95, 0.9, 0.85, 0.8, 0.75, 0.7, 0.65, 0.6, 0.55, 0.5, 0.45, 0.4, 0.35, 0.3, 0.25, 0.2, 0.15, 0.1, 0.05]\r\n",
        "print(accepted_rate)"
      ],
      "execution_count": 320,
      "outputs": [
        {
          "output_type": "stream",
          "text": [
            "[1.0, 0.95, 0.9, 0.85, 0.8, 0.75, 0.7, 0.65, 0.6, 0.55, 0.5, 0.45, 0.4, 0.35, 0.3, 0.25, 0.2, 0.15, 0.1, 0.05]\n"
          ],
          "name": "stdout"
        }
      ]
    },
    {
      "cell_type": "code",
      "metadata": {
        "id": "fqzxo5-X1iR-"
      },
      "source": [
        "thresholds=[]\r\n",
        "bad_rates=[]"
      ],
      "execution_count": 321,
      "outputs": []
    },
    {
      "cell_type": "code",
      "metadata": {
        "id": "nLaQWA_O2AWC"
      },
      "source": [
        "for rate in accepted_rate:\r\n",
        "  threshold=np.quantile(preds_df_gbt['prob_default'],rate).round(3)\r\n",
        "  thresholds.append(np.quantile(preds_df_gbt['prob_default'],rate).round(3))\r\n",
        "  preds_df_gbt['pred_loan_status']=preds_df_gbt['prob_default'].apply(lambda x: 1 if x > threshold else 0)\r\n",
        "  accepted_loans=preds_df_gbt[preds_df_gbt['pred_loan_status'] == 0]\r\n",
        "  bad_rates.append(np.sum((accepted_loans['loan_status']) / len(accepted_loans['loan_status'])).round(3))"
      ],
      "execution_count": 322,
      "outputs": []
    },
    {
      "cell_type": "code",
      "metadata": {
        "id": "nhGHdjfE42r4"
      },
      "source": [
        "strat_df=pd.DataFrame(zip(accepted_rate,thresholds,bad_rates),columns=['Acceptance Rate','Threshold','Bad Rate'])"
      ],
      "execution_count": 323,
      "outputs": []
    },
    {
      "cell_type": "code",
      "metadata": {
        "colab": {
          "base_uri": "https://localhost:8080/",
          "height": 669
        },
        "id": "s1b32pTN5UFZ",
        "outputId": "7d290ac3-d42f-45de-ab59-c2f89d00c4aa"
      },
      "source": [
        "strat_df"
      ],
      "execution_count": 324,
      "outputs": [
        {
          "output_type": "execute_result",
          "data": {
            "text/html": [
              "<div>\n",
              "<style scoped>\n",
              "    .dataframe tbody tr th:only-of-type {\n",
              "        vertical-align: middle;\n",
              "    }\n",
              "\n",
              "    .dataframe tbody tr th {\n",
              "        vertical-align: top;\n",
              "    }\n",
              "\n",
              "    .dataframe thead th {\n",
              "        text-align: right;\n",
              "    }\n",
              "</style>\n",
              "<table border=\"1\" class=\"dataframe\">\n",
              "  <thead>\n",
              "    <tr style=\"text-align: right;\">\n",
              "      <th></th>\n",
              "      <th>Acceptance Rate</th>\n",
              "      <th>Threshold</th>\n",
              "      <th>Bad Rate</th>\n",
              "    </tr>\n",
              "  </thead>\n",
              "  <tbody>\n",
              "    <tr>\n",
              "      <th>0</th>\n",
              "      <td>1.00</td>\n",
              "      <td>1.000</td>\n",
              "      <td>0.180</td>\n",
              "    </tr>\n",
              "    <tr>\n",
              "      <th>1</th>\n",
              "      <td>0.95</td>\n",
              "      <td>0.973</td>\n",
              "      <td>0.137</td>\n",
              "    </tr>\n",
              "    <tr>\n",
              "      <th>2</th>\n",
              "      <td>0.90</td>\n",
              "      <td>0.800</td>\n",
              "      <td>0.088</td>\n",
              "    </tr>\n",
              "    <tr>\n",
              "      <th>3</th>\n",
              "      <td>0.85</td>\n",
              "      <td>0.568</td>\n",
              "      <td>0.035</td>\n",
              "    </tr>\n",
              "    <tr>\n",
              "      <th>4</th>\n",
              "      <td>0.80</td>\n",
              "      <td>0.307</td>\n",
              "      <td>0.000</td>\n",
              "    </tr>\n",
              "    <tr>\n",
              "      <th>5</th>\n",
              "      <td>0.75</td>\n",
              "      <td>0.205</td>\n",
              "      <td>0.000</td>\n",
              "    </tr>\n",
              "    <tr>\n",
              "      <th>6</th>\n",
              "      <td>0.70</td>\n",
              "      <td>0.154</td>\n",
              "      <td>0.000</td>\n",
              "    </tr>\n",
              "    <tr>\n",
              "      <th>7</th>\n",
              "      <td>0.65</td>\n",
              "      <td>0.129</td>\n",
              "      <td>0.000</td>\n",
              "    </tr>\n",
              "    <tr>\n",
              "      <th>8</th>\n",
              "      <td>0.60</td>\n",
              "      <td>0.110</td>\n",
              "      <td>0.000</td>\n",
              "    </tr>\n",
              "    <tr>\n",
              "      <th>9</th>\n",
              "      <td>0.55</td>\n",
              "      <td>0.093</td>\n",
              "      <td>0.000</td>\n",
              "    </tr>\n",
              "    <tr>\n",
              "      <th>10</th>\n",
              "      <td>0.50</td>\n",
              "      <td>0.082</td>\n",
              "      <td>0.000</td>\n",
              "    </tr>\n",
              "    <tr>\n",
              "      <th>11</th>\n",
              "      <td>0.45</td>\n",
              "      <td>0.072</td>\n",
              "      <td>0.000</td>\n",
              "    </tr>\n",
              "    <tr>\n",
              "      <th>12</th>\n",
              "      <td>0.40</td>\n",
              "      <td>0.063</td>\n",
              "      <td>0.000</td>\n",
              "    </tr>\n",
              "    <tr>\n",
              "      <th>13</th>\n",
              "      <td>0.35</td>\n",
              "      <td>0.056</td>\n",
              "      <td>0.000</td>\n",
              "    </tr>\n",
              "    <tr>\n",
              "      <th>14</th>\n",
              "      <td>0.30</td>\n",
              "      <td>0.048</td>\n",
              "      <td>0.000</td>\n",
              "    </tr>\n",
              "    <tr>\n",
              "      <th>15</th>\n",
              "      <td>0.25</td>\n",
              "      <td>0.041</td>\n",
              "      <td>0.000</td>\n",
              "    </tr>\n",
              "    <tr>\n",
              "      <th>16</th>\n",
              "      <td>0.20</td>\n",
              "      <td>0.032</td>\n",
              "      <td>0.000</td>\n",
              "    </tr>\n",
              "    <tr>\n",
              "      <th>17</th>\n",
              "      <td>0.15</td>\n",
              "      <td>0.023</td>\n",
              "      <td>0.000</td>\n",
              "    </tr>\n",
              "    <tr>\n",
              "      <th>18</th>\n",
              "      <td>0.10</td>\n",
              "      <td>0.014</td>\n",
              "      <td>0.000</td>\n",
              "    </tr>\n",
              "    <tr>\n",
              "      <th>19</th>\n",
              "      <td>0.05</td>\n",
              "      <td>0.007</td>\n",
              "      <td>0.000</td>\n",
              "    </tr>\n",
              "  </tbody>\n",
              "</table>\n",
              "</div>"
            ],
            "text/plain": [
              "    Acceptance Rate  Threshold  Bad Rate\n",
              "0              1.00      1.000     0.180\n",
              "1              0.95      0.973     0.137\n",
              "2              0.90      0.800     0.088\n",
              "3              0.85      0.568     0.035\n",
              "4              0.80      0.307     0.000\n",
              "5              0.75      0.205     0.000\n",
              "6              0.70      0.154     0.000\n",
              "7              0.65      0.129     0.000\n",
              "8              0.60      0.110     0.000\n",
              "9              0.55      0.093     0.000\n",
              "10             0.50      0.082     0.000\n",
              "11             0.45      0.072     0.000\n",
              "12             0.40      0.063     0.000\n",
              "13             0.35      0.056     0.000\n",
              "14             0.30      0.048     0.000\n",
              "15             0.25      0.041     0.000\n",
              "16             0.20      0.032     0.000\n",
              "17             0.15      0.023     0.000\n",
              "18             0.10      0.014     0.000\n",
              "19             0.05      0.007     0.000"
            ]
          },
          "metadata": {
            "tags": []
          },
          "execution_count": 324
        }
      ]
    },
    {
      "cell_type": "markdown",
      "metadata": {
        "id": "SuU9pZBzTwXL"
      },
      "source": [
        "***This uses our specific predictions on the credit data, and can be used to see the acceptance rates, bad rates, and financial impact all at once.***"
      ]
    },
    {
      "cell_type": "markdown",
      "metadata": {
        "id": "R4RitH76UDYs"
      },
      "source": [
        "**Visualizing the strategy table-**"
      ]
    },
    {
      "cell_type": "code",
      "metadata": {
        "colab": {
          "base_uri": "https://localhost:8080/",
          "height": 281
        },
        "id": "EXAwRSXM5VwJ",
        "outputId": "68a3bb6a-23b0-465a-bc78-9d6413452696"
      },
      "source": [
        "strat_df.boxplot()\r\n",
        "plt.title(\"Strategy Table\")\r\n",
        "plt.show()"
      ],
      "execution_count": 325,
      "outputs": [
        {
          "output_type": "display_data",
          "data": {
            "image/png": "[encoded data removed]",
            "text/plain": [
              "<Figure size 432x288 with 1 Axes>"
            ]
          },
          "metadata": {
            "tags": [],
            "needs_background": "light"
          }
        }
      ]
    },
    {
      "cell_type": "code",
      "metadata": {
        "colab": {
          "base_uri": "https://localhost:8080/",
          "height": 383
        },
        "id": "OvSLmUH36D-l",
        "outputId": "b4b053c6-f1d3-472d-fe43-553a4584b4e0"
      },
      "source": [
        "plt.plot(strat_df['Acceptance Rate'],strat_df['Bad Rate'])\r\n",
        "plt.xlabel(\"Acceptance Rate\")\r\n",
        "plt.ylabel(\"Bad Rate\")\r\n",
        "plt.title(\"Acceptance Rate and Bad Rate\")\r\n",
        "plt.axes().xaxis.grid()\r\n",
        "plt.axes().yaxis.grid()\r\n",
        "plt.show()"
      ],
      "execution_count": 326,
      "outputs": [
        {
          "output_type": "stream",
          "text": [
            "/usr/local/lib/python3.6/dist-packages/ipykernel_launcher.py:5: MatplotlibDeprecationWarning: Adding an axes using the same arguments as a previous axes currently reuses the earlier instance.  In a future version, a new instance will always be created and returned.  Meanwhile, this warning can be suppressed, and the future behavior ensured, by passing a unique label to each axes instance.\n",
            "  \"\"\"\n",
            "/usr/local/lib/python3.6/dist-packages/ipykernel_launcher.py:6: MatplotlibDeprecationWarning: Adding an axes using the same arguments as a previous axes currently reuses the earlier instance.  In a future version, a new instance will always be created and returned.  Meanwhile, this warning can be suppressed, and the future behavior ensured, by passing a unique label to each axes instance.\n",
            "  \n"
          ],
          "name": "stderr"
        },
        {
          "output_type": "display_data",
          "data": {
            "image/png": "[encoded data removed]",
            "text/plain": [
              "<Figure size 432x288 with 1 Axes>"
            ]
          },
          "metadata": {
            "tags": [],
            "needs_background": "light"
          }
        }
      ]
    },
    {
      "cell_type": "markdown",
      "metadata": {
        "id": "OqvYIKHbW71K"
      },
      "source": [
        "***The box plot shows that the distribution of acceptance rates are very much higher than bad rates.That means that the model's calibration is likely much exellent.***\r\n",
        "***\r\n",
        "***The line plot shows that the bad rates are almost 0 until the acceptance rates 0.8. It also shows that if we accept all the loans than around 18% of loans would be default***"
      ]
    },
    {
      "cell_type": "markdown",
      "metadata": {
        "id": "xwnTXNNMw4NM"
      },
      "source": [
        "# ***Conclusion***"
      ]
    },
    {
      "cell_type": "markdown",
      "metadata": {
        "id": "j1_J8HWqxAc4"
      },
      "source": [
        "After implementation, the Logistic Regression model gives **82%** and the eXtreme Gradient Boosting(XGBoost) model gives **91%** accuracy. XGBoost models performs much better than Logistic Regression in all aspects such as classification report, roc chart, auc score and it also reduces the loss of a company. But in general,  XGBoost is not good in *probability collaboration* as compared to Logistic Regression, however XGBoost is *faster* than Logistic Regression. The performance of machine learning algorithms always depends on the use case to decide which model to opt for.\r\n",
        "\r\n",
        "There are many machine learning algorithms for classification problems but I have used Logistic Regression and eXtreme Gradient Boosting algorithm because-\r\n",
        "\r\n",
        "*   They are mathematically simple and easy to understand\r\n",
        "*   There performance is acceptable\r\n",
        "\r\n",
        "Complex models may difficult to explain in business as a result they cannot make their decision perfectly. Even though complex models may perform well but in many cases, business users will not accept a model they cannont understand. Complex models can also be difficult to put into production. \r\n",
        "\r\n",
        "Further work for improving the model performance-\r\n",
        "\r\n",
        "*   By gathering more data\r\n",
        "*   By preparing the data in different manners\r\n",
        "\r\n",
        "                                    \r\n"
      ]
    }
  ]
}